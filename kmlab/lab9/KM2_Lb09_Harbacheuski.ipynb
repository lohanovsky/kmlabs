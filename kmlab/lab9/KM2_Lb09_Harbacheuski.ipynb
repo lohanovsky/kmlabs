{
 "cells": [
  {
   "cell_type": "markdown",
   "id": "bd627492",
   "metadata": {},
   "source": [
    "# Лабораторная работа 9\n",
    "# Создание текстового файла большого объема с помощью генераторной функции\n"
   ]
  },
  {
   "cell_type": "markdown",
   "id": "99b98716",
   "metadata": {},
   "source": [
    "## Функция randint из модуля random"
   ]
  },
  {
   "cell_type": "code",
   "execution_count": 1,
   "id": "0f3da69e",
   "metadata": {},
   "outputs": [],
   "source": [
    "from random import randint"
   ]
  },
  {
   "cell_type": "code",
   "execution_count": 2,
   "id": "4f52a67a",
   "metadata": {},
   "outputs": [
    {
     "name": "stdout",
     "output_type": "stream",
     "text": [
      "\u001b[31mSignature:\u001b[39m randint(a, b)\n",
      "\u001b[31mDocstring:\u001b[39m\n",
      "Return random integer in range [a, b], including both end points.\n",
      "        \n",
      "\u001b[31mFile:\u001b[39m      c:\\users\\amogus\\appdata\\local\\programs\\python\\python311\\lib\\random.py\n",
      "\u001b[31mType:\u001b[39m      method"
     ]
    }
   ],
   "source": [
    "?randint"
   ]
  },
  {
   "cell_type": "code",
   "execution_count": 3,
   "id": "4aed9e64",
   "metadata": {},
   "outputs": [
    {
     "data": {
      "text/plain": [
       "'Код символа: 114, символ: r'"
      ]
     },
     "execution_count": 3,
     "metadata": {},
     "output_type": "execute_result"
    }
   ],
   "source": [
    "latin_code = (ord('a'), ord('z')) # соответствует type_symbols = 'latin'\n",
    "f'Код символа: {(c:=randint(*latin_code))}, символ: {chr(c)}'"
   ]
  },
  {
   "cell_type": "markdown",
   "id": "1c286a13",
   "metadata": {},
   "source": [
    "## Функция process_time из модуля time\n"
   ]
  },
  {
   "cell_type": "code",
   "execution_count": 4,
   "id": "550fd689",
   "metadata": {},
   "outputs": [],
   "source": [
    "from time import process_time\n"
   ]
  },
  {
   "cell_type": "code",
   "execution_count": 5,
   "id": "b9bcdc2a",
   "metadata": {},
   "outputs": [
    {
     "name": "stdout",
     "output_type": "stream",
     "text": [
      "\u001b[31mDocstring:\u001b[39m\n",
      "process_time() -> float\n",
      "\n",
      "Process time for profiling: sum of the kernel and user-space CPU time.\n",
      "\u001b[31mType:\u001b[39m      builtin_function_or_method"
     ]
    }
   ],
   "source": [
    "?process_time"
   ]
  },
  {
   "cell_type": "code",
   "execution_count": 6,
   "id": "91f53cd8",
   "metadata": {},
   "outputs": [
    {
     "name": "stdout",
     "output_type": "stream",
     "text": [
      "0.0625 секунд\n"
     ]
    }
   ],
   "source": [
    "start = process_time()\n",
    "[x**2 for x in range(1_000_000)]\n",
    "end = process_time()\n",
    "print(f'{end - start} секунд')\n"
   ]
  },
  {
   "cell_type": "markdown",
   "id": "600f4e07",
   "metadata": {},
   "source": [
    "## Задание 9.1. Запись данных в текстовый файл\n"
   ]
  },
  {
   "cell_type": "code",
   "execution_count": 7,
   "id": "f8ba8661",
   "metadata": {},
   "outputs": [],
   "source": [
    "file_name = 'test.txt'\n",
    "f = open(file_name, 'w')"
   ]
  },
  {
   "cell_type": "code",
   "execution_count": 8,
   "id": "d2e01ffa",
   "metadata": {},
   "outputs": [
    {
     "data": {
      "text/plain": [
       "['t\\n', 'e\\n', 's\\n', 't\\n']"
      ]
     },
     "execution_count": 8,
     "metadata": {},
     "output_type": "execute_result"
    }
   ],
   "source": [
    "lines_list = [f'{x}\\n' for x in 'test']\n",
    "lines_list\n"
   ]
  },
  {
   "cell_type": "code",
   "execution_count": 9,
   "id": "e884ea40",
   "metadata": {},
   "outputs": [],
   "source": [
    "f.writelines(lines_list)\n"
   ]
  },
  {
   "cell_type": "code",
   "execution_count": 10,
   "id": "8dca2788",
   "metadata": {},
   "outputs": [],
   "source": [
    "f.close()\n"
   ]
  },
  {
   "cell_type": "code",
   "execution_count": 11,
   "id": "0bb8014d",
   "metadata": {},
   "outputs": [
    {
     "name": "stdout",
     "output_type": "stream",
     "text": [
      "t\n",
      "e\n",
      "s\n",
      "t\n"
     ]
    }
   ],
   "source": [
    "with open(file_name,'r') as f:\n",
    "    for line in f:\n",
    "        print(line, end='')"
   ]
  },
  {
   "cell_type": "code",
   "execution_count": 12,
   "id": "e76803c0",
   "metadata": {},
   "outputs": [],
   "source": [
    "lines_gen_expr = (f'{x}\\n' for x in range(2**20))\n",
    "\n",
    "def lines_gen_fun(number_lines=2**20):\n",
    "    yield from (f'{x}\\n' for x in range(number_lines))\n",
    "    \n",
    "with open(file_name,'w') as f:\n",
    "    f.writelines(lines_gen_expr)\n",
    "    f.writelines(lines_gen_fun())\n"
   ]
  },
  {
   "cell_type": "code",
   "execution_count": 13,
   "id": "b42bd377",
   "metadata": {},
   "outputs": [
    {
     "name": "stdout",
     "output_type": "stream",
     "text": [
      "6.940362930297852 Mb\n"
     ]
    }
   ],
   "source": [
    "def lines_gen_fun(number_lines = 2**20):\n",
    "    file_size = 0\n",
    "    for x in range(number_lines):\n",
    "        line = f'{x}\\n'\n",
    "        yield line\n",
    "        file_size += len(line)\n",
    "    print(f'{file_size/1024**2} Mb')\n",
    "\n",
    "with open(file_name,'w') as f:\n",
    "    f.writelines(lines_gen_fun())\n"
   ]
  },
  {
   "cell_type": "code",
   "execution_count": 14,
   "id": "2613f824",
   "metadata": {},
   "outputs": [
    {
     "data": {
      "text/plain": [
       "(1, 1, 1, 2)"
      ]
     },
     "execution_count": 14,
     "metadata": {},
     "output_type": "execute_result"
    }
   ],
   "source": [
    "len('f'), len('f'.encode('utf8')), len('ц'), len('ц'.encode('utf8'))"
   ]
  },
  {
   "cell_type": "code",
   "execution_count": 15,
   "id": "6a9d23a4",
   "metadata": {},
   "outputs": [
    {
     "name": "stdout",
     "output_type": "stream",
     "text": [
      "6.940362930297852 Mb\n",
      "0.59375 секунд\n"
     ]
    }
   ],
   "source": [
    "with open(file_name,'w') as f:\n",
    "    start = process_time()\n",
    "    f.writelines(lines_gen_fun())\n",
    "    end = process_time()\n",
    "    print(end - start, 'секунд')"
   ]
  },
  {
   "cell_type": "code",
   "execution_count": 16,
   "id": "b3abd87f",
   "metadata": {},
   "outputs": [],
   "source": [
    "def lines_gen_fun(number_lines=2**20, status=False):\n",
    "    file_size = 0\n",
    "    for x in range(number_lines):\n",
    "        line = f'{x}\\n'\n",
    "        yield line\n",
    "        file_size += len(line)\n",
    "        if status:\n",
    "            status_number = x/number_lines*100\n",
    "            print(f'\\r{int(status_number)}%', end='', flush=True)\n",
    "    print(f'\\n {file_size/1024**2} Mb') \n"
   ]
  },
  {
   "cell_type": "code",
   "execution_count": 17,
   "id": "29ce46ae",
   "metadata": {},
   "outputs": [
    {
     "name": "stdout",
     "output_type": "stream",
     "text": [
      "99%\n",
      " 0.013246536254882812 Mb\n",
      "1.140625 секунд\n"
     ]
    }
   ],
   "source": [
    "with open(file_name,'w') as f:\n",
    "    start = process_time()\n",
    "    f.writelines(lines_gen_fun(3*10**3, status=True))\n",
    "    end = process_time()\n",
    "    print(f'{end - start} секунд')"
   ]
  },
  {
   "cell_type": "markdown",
   "id": "8821a878",
   "metadata": {},
   "source": [
    "## Задание 9.2. Генерация строк\n"
   ]
  },
  {
   "cell_type": "code",
   "execution_count": 18,
   "id": "77dda6a7",
   "metadata": {},
   "outputs": [],
   "source": [
    "latin_code = (ord('a'), ord('z')) # соответствует type_symbols = 'latin'\n",
    "number_words = (10, 20)\n",
    "number_symbols = (5, 10)"
   ]
  },
  {
   "cell_type": "code",
   "execution_count": 19,
   "id": "b5a0d602",
   "metadata": {},
   "outputs": [
    {
     "data": {
      "text/plain": [
       "'zlxewqwuw'"
      ]
     },
     "execution_count": 19,
     "metadata": {},
     "output_type": "execute_result"
    }
   ],
   "source": [
    "len_word = randint(*number_symbols)\n",
    "word = ''.join([chr(randint(*latin_code)) for i in range(len_word)])\n",
    "word"
   ]
  },
  {
   "cell_type": "code",
   "execution_count": 20,
   "id": "a8984deb",
   "metadata": {},
   "outputs": [],
   "source": [
    "number_code = (ord('0'), ord('9'))\n",
    "cyrillic_code = (ord('а'),ord('я'))\n"
   ]
  },
  {
   "cell_type": "code",
   "execution_count": 21,
   "id": "8304ca91",
   "metadata": {},
   "outputs": [
    {
     "name": "stdout",
     "output_type": "stream",
     "text": [
      "dgifngnd gdbbb mlvxzhu liwhyz vptrhco vfiqx sgfwnfu sgkrwcqn \n",
      "дыляьчдг кгихччйс рмрикрль шуытуэзцкт зшлйы еуитбш тэгттц ымпхц еаьвь лгфдзяпзя \n",
      "886187555 8512099229 9733202743 86628428 \n"
     ]
    }
   ],
   "source": [
    "\n",
    "result = ''\n",
    "for rand in range(randint(1,10)):\n",
    "    len_word = randint(*number_symbols)\n",
    "    word = ''.join([chr(randint(*latin_code)) for i in range(len_word)])\n",
    "    result += word\n",
    "    result += ' '\n",
    "    \n",
    "print(result)\n",
    "\n",
    "result = ''\n",
    "for rand in range(randint(1,10)):\n",
    "    len_word = randint(*number_symbols)\n",
    "    word = ''.join([chr(randint(*cyrillic_code)) for i in range(len_word)])\n",
    "    result += word\n",
    "    result += ' '\n",
    "    \n",
    "print(result)\n",
    "\n",
    "result = ''\n",
    "for rand in range(randint(1,10)):\n",
    "    len_word = randint(*number_symbols)\n",
    "    word = ''.join([chr(randint(*number_code)) for i in range(len_word)])\n",
    "    result += word\n",
    "    result += ' '\n",
    "    \n",
    "print(result)"
   ]
  },
  {
   "cell_type": "code",
   "execution_count": 22,
   "id": "0d0269ad",
   "metadata": {},
   "outputs": [],
   "source": [
    "def lines_gen_fun_v2(file_size, type_symbols, number_words, number_symbols):\n",
    "    file_size_count = 0\n",
    "    target_bytes = file_size * 2**20\n",
    "    while file_size_count < target_bytes:\n",
    "        result = ''\n",
    "\n",
    "        for _ in range(randint(*number_words)):\n",
    "\n",
    "            len_word = randint(*number_symbols)\n",
    "\n",
    "            word = ''.join([chr(randint(*type_symbols)) for _ in range(len_word)])\n",
    "            word_bytes = word.encode('utf-8')\n",
    "\n",
    "            if file_size_count + len(word_bytes) + 1 > target_bytes:\n",
    "                break\n",
    "\n",
    "            result += word + ' '\n",
    "            file_size_count += len(word_bytes) + 1\n",
    "        \n",
    "        if not result:\n",
    "            break\n",
    "\n",
    "\n",
    "        result = result.rstrip() + '\\n'\n",
    "        file_size_count += 1\n",
    "\n",
    "        yield result"
   ]
  },
  {
   "cell_type": "code",
   "execution_count": 23,
   "id": "7201c82a",
   "metadata": {},
   "outputs": [],
   "source": [
    "with open('numeric.txt','w') as f:\n",
    "    f.writelines(lines_gen_fun_v2(1,number_code,(1,5),(1,15)))"
   ]
  },
  {
   "cell_type": "code",
   "execution_count": 24,
   "id": "82bcf7d9",
   "metadata": {},
   "outputs": [],
   "source": [
    "with open('cyrillic.txt','w') as f:\n",
    "    f.writelines(lines_gen_fun_v2(1,cyrillic_code,(1,10),(1,10)))"
   ]
  },
  {
   "cell_type": "code",
   "execution_count": 25,
   "id": "cfdee74c",
   "metadata": {},
   "outputs": [],
   "source": [
    "with open('latinic.txt','w') as f:\n",
    "    f.writelines(lines_gen_fun_v2(1,latin_code,(1,10),(1,10)))"
   ]
  },
  {
   "cell_type": "code",
   "execution_count": 26,
   "id": "09b60956",
   "metadata": {},
   "outputs": [],
   "source": [
    "def progress(gen_func):\n",
    "    def wrapper(file_size,*args,**kwargs):\n",
    "        target_bytes = file_size * 2**20\n",
    "        x = 0\n",
    "        for i in gen_func(file_size,*args,**kwargs):\n",
    "            word_bytes = i.encode('utf-8')\n",
    "            x += len(word_bytes)\n",
    "            status_number = x/target_bytes*100\n",
    "            print(f'\\r{int(status_number)}%', end='', flush=True)\n",
    "            yield i\n",
    "    return wrapper\n",
    "\n",
    "\n",
    "def file_gen(file_name: str, file_size: int, type_symbols: str='latin',number_words: (int,int)=(10,20), number_symbols: (int,int)=(5,10)):\n",
    "    start = process_time()\n",
    "    progress_lines = progress(lines_gen_fun_v2)\n",
    "    if type_symbols == 'latin':\n",
    "        symbols_tuple = latin_code\n",
    "    elif type_symbols == 'cyrillic':\n",
    "        symbols_tuple = cyrillic_code\n",
    "    else:\n",
    "        symbols_tuple = number_code\n",
    "    with open(file_name,'w') as f:\n",
    "        f.writelines(progress_lines(file_size,symbols_tuple,number_words,number_symbols))\n",
    "    print ()\n",
    "    end = process_time()\n",
    "    print (end-start)\n",
    "    "
   ]
  },
  {
   "cell_type": "code",
   "execution_count": 27,
   "id": "e5cbbe4d",
   "metadata": {},
   "outputs": [
    {
     "name": "stdout",
     "output_type": "stream",
     "text": [
      "99%\n",
      "8.0625\n"
     ]
    }
   ],
   "source": [
    "file_gen('aboba.txt',2)"
   ]
  },
  {
   "cell_type": "code",
   "execution_count": 28,
   "id": "7f82278e",
   "metadata": {},
   "outputs": [
    {
     "name": "stdout",
     "output_type": "stream",
     "text": [
      "97%\n",
      "25.71875\n"
     ]
    }
   ],
   "source": [
    "file_gen('aboba2.txt',2,'numeric',(4,6),(5,6))"
   ]
  },
  {
   "cell_type": "code",
   "execution_count": 29,
   "id": "f9570789",
   "metadata": {},
   "outputs": [
    {
     "name": "stdout",
     "output_type": "stream",
     "text": [
      "98%\n",
      "9.265625\n"
     ]
    }
   ],
   "source": [
    "file_gen('aboba3.txt',2,'cyrillic',(1,10),(6,10))"
   ]
  },
  {
   "cell_type": "code",
   "execution_count": null,
   "id": "93ac59a2",
   "metadata": {},
   "outputs": [],
   "source": []
  }
 ],
 "metadata": {
  "kernelspec": {
   "display_name": "Python 3",
   "language": "python",
   "name": "python3"
  },
  "language_info": {
   "codemirror_mode": {
    "name": "ipython",
    "version": 3
   },
   "file_extension": ".py",
   "mimetype": "text/x-python",
   "name": "python",
   "nbconvert_exporter": "python",
   "pygments_lexer": "ipython3",
   "version": "3.11.2"
  }
 },
 "nbformat": 4,
 "nbformat_minor": 5
}
