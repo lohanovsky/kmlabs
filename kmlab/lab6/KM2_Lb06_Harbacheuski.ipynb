{
 "cells": [
  {
   "cell_type": "markdown",
   "metadata": {},
   "source": [
    "# Лабораторная работа 6\n",
    "# Выравнивание списка, состоящего из итерируемых объектов, на основе рекурсии"
   ]
  },
  {
   "cell_type": "markdown",
   "metadata": {},
   "source": [
    "Горбачевский Илья Александрович, 24.05.2025"
   ]
  },
  {
   "cell_type": "markdown",
   "metadata": {},
   "source": [
    "## Задание 6.1. Выравнивание вложенных списков"
   ]
  },
  {
   "cell_type": "markdown",
   "metadata": {},
   "source": [
    "### Задание 6.1.1. Рекурсивная функция flatten_list_v1\n"
   ]
  },
  {
   "cell_type": "markdown",
   "metadata": {},
   "source": [
    "Предположим, что нам нужно выровнять вложенный список\n"
   ]
  },
  {
   "cell_type": "code",
   "execution_count": 1,
   "metadata": {},
   "outputs": [],
   "source": [
    "it_list = [[1],[2,[3]],[[[[[4]]]]],5,6,7]"
   ]
  },
  {
   "cell_type": "markdown",
   "metadata": {},
   "source": [
    "Напишем рекурсивную функцию `flatten_list_v1(nested_obj)` , которая выравнивает вложенный список `nested_obj` и возвращает список, содержащий только элементы исходного списка без сохранения его структуры."
   ]
  },
  {
   "cell_type": "markdown",
   "metadata": {},
   "source": [
    "Некоторые аспекты реализации:\n",
    "* для проверки, является ли текущий объект `item` списком или нет, будем\n",
    "использовать функцию `isinstance(item, list)` ;\n",
    "* для формирования результирующего списка `result` будем использовать\n",
    "дополненное присваивание `+=` для списков на основе операции конкатенации `+` .\n"
   ]
  },
  {
   "cell_type": "code",
   "execution_count": 2,
   "metadata": {},
   "outputs": [
    {
     "name": "stdout",
     "output_type": "stream",
     "text": [
      "\u001b[31mSignature:\u001b[39m isinstance(obj, class_or_tuple, /)\n",
      "\u001b[31mDocstring:\u001b[39m\n",
      "Return whether an object is an instance of a class or of a subclass thereof.\n",
      "\n",
      "A tuple, as in ``isinstance(x, (A, B, ...))``, may be given as the target to\n",
      "check against. This is equivalent to ``isinstance(x, A) or isinstance(x, B)\n",
      "or ...`` etc.\n",
      "\u001b[31mType:\u001b[39m      builtin_function_or_method"
     ]
    }
   ],
   "source": [
    "?isinstance"
   ]
  },
  {
   "cell_type": "code",
   "execution_count": 3,
   "metadata": {},
   "outputs": [],
   "source": [
    "def flatten_list_v1(nested_obj): #принимаем объект\n",
    "    result = [] # задаем пустой список\n",
    "    if isinstance(nested_obj,list): # проверка, список ли\n",
    "        for item in nested_obj: # прохождение каждого элемента изначального объекта\n",
    "            result += flatten_list_v1(item) # рекурсия \n",
    "    else:\n",
    "        result += [nested_obj] # если не список, то добавляем этот элемент к результату\n",
    "    return result"
   ]
  },
  {
   "cell_type": "code",
   "execution_count": 4,
   "metadata": {},
   "outputs": [
    {
     "data": {
      "text/plain": [
       "[1, 2, 3, 4, 5, 6, 7]"
      ]
     },
     "execution_count": 4,
     "metadata": {},
     "output_type": "execute_result"
    }
   ],
   "source": [
    "flatten_list_v1(it_list)\n"
   ]
  },
  {
   "cell_type": "markdown",
   "metadata": {},
   "source": [
    "### Задание 6.1.2. Генераторная функция на основе рекурсии `flatten_list_v2`\n"
   ]
  },
  {
   "cell_type": "markdown",
   "metadata": {},
   "source": [
    "На основе функции `flatten_list_v1` $\\color{red}\\text{напишите}$ генераторную функцию\n",
    "`flatten_list_v2(nested_obj)` , которая выравнивает вложенный список и возвращает генератнорый объект для элементов вложенного списка."
   ]
  },
  {
   "cell_type": "markdown",
   "metadata": {},
   "source": [
    "Реализация генераторной функции `flatten_list_v2` будет проще реализации функции `flatten_list_v1` , так как не нужно объединять все объекты в единый результирующий список.\n"
   ]
  },
  {
   "cell_type": "markdown",
   "metadata": {},
   "source": [
    "$\\color{red}\\text{Предложите два варианта реализации}$: : только с использованием `yield` (вариант 1) и с использованием `yield from` (вариант 2).\n"
   ]
  },
  {
   "cell_type": "code",
   "execution_count": 5,
   "metadata": {},
   "outputs": [],
   "source": [
    "def flatten_list_v2(nested_obj):\n",
    "    if isinstance(nested_obj,list): \n",
    "        for item in nested_obj:\n",
    "            for subitem in flatten_list_v2(item):\n",
    "                yield subitem\n",
    "    else:\n",
    "        yield nested_obj "
   ]
  },
  {
   "cell_type": "code",
   "execution_count": 6,
   "metadata": {},
   "outputs": [
    {
     "data": {
      "text/plain": [
       "[1, 2, 3, 4, 5, 6, 7]"
      ]
     },
     "execution_count": 6,
     "metadata": {},
     "output_type": "execute_result"
    }
   ],
   "source": [
    "[x for x in flatten_list_v2(it_list)] "
   ]
  },
  {
   "cell_type": "code",
   "execution_count": 7,
   "metadata": {},
   "outputs": [],
   "source": [
    "def flatten_list_v3(nested_obj):\n",
    "    if isinstance(nested_obj,list): \n",
    "        for item in nested_obj:\n",
    "            yield from flatten_list_v3(item)\n",
    "    else:\n",
    "        yield nested_obj "
   ]
  },
  {
   "cell_type": "code",
   "execution_count": 8,
   "metadata": {},
   "outputs": [
    {
     "data": {
      "text/plain": [
       "[1, 2, 3, 4, 5, 6, 7]"
      ]
     },
     "execution_count": 8,
     "metadata": {},
     "output_type": "execute_result"
    }
   ],
   "source": [
    "[x for x in flatten_list_v3(it_list)]"
   ]
  },
  {
   "cell_type": "markdown",
   "metadata": {},
   "source": [
    "### Задание 6.1.3. Функция flatten_list: создание, документирование, тестирование\n"
   ]
  },
  {
   "cell_type": "markdown",
   "metadata": {},
   "source": [
    "$\\color{red}\\text{Объедините}$ две пользовательские функции `flatten_list_v1` и\n",
    "`flatten_list_v2` в одну пользовательскую функцию `flatten_list(nested_obj,\n",
    "gen)` , которая возвращает либо список из элементов вложенных списков без\n",
    "сохранения структуры, если `gen=False` , либо возвращает генераторный объект,\n",
    "если `gen=True` . Стандартным значением для аргумента `gen` является объект\n",
    "`False` .\n"
   ]
  },
  {
   "cell_type": "code",
   "execution_count": 9,
   "metadata": {},
   "outputs": [
    {
     "name": "stdout",
     "output_type": "stream",
     "text": [
      "<generator object flatten_list_v3 at 0x000002AC4C2A1490>\n",
      "[1, 2, 3, 4, 5, 6, 7]\n",
      "[1, 2, 3, 4, 5, 6, 7]\n"
     ]
    }
   ],
   "source": [
    "def flatten_list(nested_obj, gen=False):\n",
    "    \"\"\"\n",
    "    Выравнивает вложенный список, возвращая либо список, либо генератор.\n",
    "    \n",
    "    nested_obj : any\n",
    "        Входной объект, который может быть списком или любым другим типом данных.\n",
    "    gen : bool, optional\n",
    "        Флаг, определяющий тип возвращаемого значения:\n",
    "        - False (по умолчанию): возвращает генератор\n",
    "        - True: возвращает список\n",
    "    \"\"\"\n",
    "    if(gen):\n",
    "        return flatten_list_v1(nested_obj)\n",
    "    else:\n",
    "        return flatten_list_v3(nested_obj)\n",
    "\n",
    "print(flatten_list(it_list))\n",
    "print(flatten_list(it_list,True))\n",
    "print([x for x in flatten_list(it_list)])\n",
    "\n",
    "        "
   ]
  },
  {
   "cell_type": "code",
   "execution_count": 10,
   "metadata": {},
   "outputs": [
    {
     "name": "stdout",
     "output_type": "stream",
     "text": [
      "\u001b[31mSignature:\u001b[39m flatten_list(nested_obj, gen=\u001b[38;5;28;01mFalse\u001b[39;00m)\n",
      "\u001b[31mDocstring:\u001b[39m\n",
      "Выравнивает вложенный список, возвращая либо список, либо генератор.\n",
      "\n",
      "nested_obj : any\n",
      "    Входной объект, который может быть списком или любым другим типом данных.\n",
      "gen : bool, optional\n",
      "    Флаг, определяющий тип возвращаемого значения:\n",
      "    - False (по умолчанию): возвращает генератор\n",
      "    - True: возвращает список\n",
      "\u001b[31mFile:\u001b[39m      c:\\temp\\ipykernel_17552\\95303620.py\n",
      "\u001b[31mType:\u001b[39m      function"
     ]
    }
   ],
   "source": [
    "?flatten_list"
   ]
  },
  {
   "cell_type": "code",
   "execution_count": 11,
   "metadata": {},
   "outputs": [
    {
     "name": "stdout",
     "output_type": "stream",
     "text": [
      "[1, 2, 3, 4, 5, 6]\n",
      "[1, 2, 3, 4, 5, 6, 7, 8]\n",
      "[1, 'hello', 3.14, True]\n"
     ]
    }
   ],
   "source": [
    "nested1 = [1, [2, 3], [4, [5, 6]]]\n",
    "print(list(flatten_list(nested1)))\n",
    "\n",
    "nested2 = [[[1]], [2, [3, [4]]], 5, [6, 7, [8]]]\n",
    "print(flatten_list(nested2, gen=True))\n",
    "\n",
    "nested3 = [1, [\"hello\", [3.14]], [True]]\n",
    "print(list(flatten_list(nested3)))"
   ]
  },
  {
   "cell_type": "markdown",
   "metadata": {},
   "source": [
    "## Задание 6.2"
   ]
  },
  {
   "cell_type": "code",
   "execution_count": 12,
   "metadata": {},
   "outputs": [
    {
     "data": {
      "text/plain": [
       "[[1], [2, [3]], [[[[[4]]]]], 5, 6, 7]"
      ]
     },
     "execution_count": 12,
     "metadata": {},
     "output_type": "execute_result"
    }
   ],
   "source": [
    "it_list\n"
   ]
  },
  {
   "cell_type": "code",
   "execution_count": 13,
   "metadata": {},
   "outputs": [],
   "source": [
    "it_tuple = (((7),(8)),(9),10)\n",
    "it_str = \"abcdefgh\"\n",
    "it_dict = {\"key1\": 11, \"key2\": {\"key3\": 12}}\n",
    "it_gen = ([i,i**2,i**3] for i in range(5))\n",
    "it_file = open(\"flatten_file.txt\")\n",
    "it = [it_list, it_tuple, it_str, it_dict, it_gen, it_file]\n"
   ]
  },
  {
   "cell_type": "code",
   "execution_count": 14,
   "metadata": {},
   "outputs": [
    {
     "data": {
      "text/plain": [
       "[True, True, True, True, True, True]"
      ]
     },
     "execution_count": 14,
     "metadata": {},
     "output_type": "execute_result"
    }
   ],
   "source": [
    "['__iter__' in dir(x) for x in it]\n"
   ]
  },
  {
   "cell_type": "code",
   "execution_count": 15,
   "metadata": {},
   "outputs": [
    {
     "data": {
      "text/plain": [
       "[True, True, True, True, True, True]"
      ]
     },
     "execution_count": 15,
     "metadata": {},
     "output_type": "execute_result"
    }
   ],
   "source": [
    "[hasattr(x, '__iter__') for x in it]"
   ]
  },
  {
   "cell_type": "code",
   "execution_count": 16,
   "metadata": {},
   "outputs": [
    {
     "name": "stdout",
     "output_type": "stream",
     "text": [
      "\u001b[31mSignature:\u001b[39m hasattr(obj, name, /)\n",
      "\u001b[31mDocstring:\u001b[39m\n",
      "Return whether the object has an attribute with the given name.\n",
      "\n",
      "This is done by calling getattr(obj, name) and catching AttributeError.\n",
      "\u001b[31mType:\u001b[39m      builtin_function_or_method"
     ]
    }
   ],
   "source": [
    "?hasattr"
   ]
  },
  {
   "cell_type": "markdown",
   "metadata": {},
   "source": [
    "### Задание 6.2.1. Рекурсивная функция `flatten_it_v1`"
   ]
  },
  {
   "cell_type": "markdown",
   "metadata": {},
   "source": [
    "На основе функции `flatten_list_v1(nested_obj)`$\\color{red}\\text{напишите}$ пользовательскую\n",
    "функцию `flatten_it_v1(nested_obj)` одного аргумента, которая выравнивает\n",
    "вложенную структуру из различных итерируемых объектов и возвращает список,\n",
    "содержащий только элементы без сохранения структуры.\n",
    "Для этого вместо проверки `isinstance(nested_obj, list)` будем использовать\n",
    "проверку на итерируемость объекта `hasattr(nested_obj, '__iter__')` .\n",
    "При этом дополнительно учтем, что если итерируемым объектом является\n",
    "* строка, то ее мы не итерируем;\n",
    "* словарь, то для его итерирования нужно выполнить дополнительные\n",
    "преобразования, чтобы осущесвить проход как по ключам, так и по значениям.\n"
   ]
  },
  {
   "cell_type": "code",
   "execution_count": 17,
   "metadata": {},
   "outputs": [],
   "source": [
    "def flatten_it_v1(nested_obj):\n",
    "    result = []\n",
    "    if hasattr(nested_obj, '__iter__'):\n",
    "        if isinstance(nested_obj, str):\n",
    "            result += [nested_obj]\n",
    "        elif isinstance(nested_obj, dict):\n",
    "            for key, value in nested_obj.items():\n",
    "                result += flatten_it_v1(key)\n",
    "                result += flatten_it_v1(value)\n",
    "        else:\n",
    "            for item in nested_obj:\n",
    "                result += flatten_it_v1(item)\n",
    "    else:\n",
    "        result += [nested_obj]\n",
    "    return result"
   ]
  },
  {
   "cell_type": "code",
   "execution_count": 18,
   "metadata": {},
   "outputs": [
    {
     "data": {
      "text/plain": [
       "[1,\n",
       " 2,\n",
       " 3,\n",
       " 4,\n",
       " 5,\n",
       " 6,\n",
       " 7,\n",
       " 7,\n",
       " 8,\n",
       " 9,\n",
       " 10,\n",
       " 'abcdefgh',\n",
       " 'key1',\n",
       " 11,\n",
       " 'key2',\n",
       " 'key3',\n",
       " 12,\n",
       " 0,\n",
       " 0,\n",
       " 0,\n",
       " 1,\n",
       " 1,\n",
       " 1,\n",
       " 2,\n",
       " 4,\n",
       " 8,\n",
       " 3,\n",
       " 9,\n",
       " 27,\n",
       " 4,\n",
       " 16,\n",
       " 64,\n",
       " '[1,2,[3,4],5,6]']"
      ]
     },
     "execution_count": 18,
     "metadata": {},
     "output_type": "execute_result"
    }
   ],
   "source": [
    "flatten_it_v1(it)"
   ]
  },
  {
   "cell_type": "markdown",
   "metadata": {},
   "source": [
    "### Задание 6.2.2. Генераторная функция на основе рекурсии `flatten_it_v2`\n"
   ]
  },
  {
   "cell_type": "markdown",
   "metadata": {},
   "source": [
    "На основе функций `flatten_it_v1` и `flatten_list_v2` $\\color{red}\\text{напишите}$\n",
    "пользовательскую функцию `flatten_it_v2(nested_obj)` , которая выравнивает\n",
    "вложенную структуру из различных итерируемых объектов и возвращает\n",
    "генератнорый объект элементов без сохранения структуры.\n",
    "\n",
    " $\\color{red}\\text{Напишите комментарий}$\n",
    " для каждой строки кода функции `flatten_it_v2` ."
   ]
  },
  {
   "cell_type": "code",
   "execution_count": 19,
   "metadata": {},
   "outputs": [
    {
     "name": "stdout",
     "output_type": "stream",
     "text": [
      "<generator object flatten_it_v2 at 0x000002AC4C2D4120>\n"
     ]
    },
    {
     "data": {
      "text/plain": [
       "[1, 2, 3, 4, 5, 6, 7, 7, 8, 9, 10, 'abcdefgh', 'key1', 11, 'key2', 'key3', 12]"
      ]
     },
     "execution_count": 19,
     "metadata": {},
     "output_type": "execute_result"
    }
   ],
   "source": [
    "def flatten_it_v2(nested_obj):\n",
    "    if hasattr(nested_obj, '__iter__'):\n",
    "        if isinstance(nested_obj, str):\n",
    "            yield nested_obj\n",
    "        elif isinstance(nested_obj, dict):\n",
    "            for key, value in nested_obj.items():\n",
    "                yield from flatten_it_v2(key)\n",
    "                yield from flatten_it_v2(value)\n",
    "        else:\n",
    "            for item in nested_obj:\n",
    "                yield from flatten_it_v2(item)\n",
    "    else:\n",
    "        yield nested_obj\n",
    "\n",
    "print(flatten_it_v2(it))\n",
    "[x for x in flatten_it_v2(it)]"
   ]
  },
  {
   "cell_type": "markdown",
   "metadata": {},
   "source": [
    "### Задание 6.2.3. Функция `flatten_it`: создание, документирование, тестирование"
   ]
  },
  {
   "cell_type": "code",
   "execution_count": 20,
   "metadata": {},
   "outputs": [
    {
     "name": "stdout",
     "output_type": "stream",
     "text": [
      "<generator object flatten_it_v2 at 0x000002AC4C2D4F20>\n",
      "[1, 2, 3, 4, 5, 6, 7, 7, 8, 9, 10, 'abcdefgh', 'key1', 11, 'key2', 'key3', 12]\n",
      "[1, 2, 3, 4, 5, 6, 7, 7, 8, 9, 10, 'abcdefgh', 'key1', 11, 'key2', 'key3', 12]\n"
     ]
    }
   ],
   "source": [
    "def flatten_it(nested_obj, gen=False):\n",
    "    \"\"\"\n",
    "    Выравнивает вложенную структуру из различных итерируемых объектов.\n",
    "    \n",
    "    nested_obj : any\n",
    "        Входной объект, который может быть итерируемым или нет.\n",
    "    gen : bool, optional\n",
    "        Флаг, определяющий тип возвращаемого значения:\n",
    "        - False (по умолчанию): возвращает генератор\n",
    "        - True: возвращает список\n",
    "    \"\"\"\n",
    "    if(gen):\n",
    "        return flatten_it_v1(nested_obj)\n",
    "    else:\n",
    "        return flatten_it_v2(nested_obj)\n",
    "\n",
    "print(flatten_it(it))\n",
    "print(flatten_it(it, True))\n",
    "print([x for x in flatten_it(it)])\n"
   ]
  },
  {
   "cell_type": "code",
   "execution_count": 21,
   "metadata": {},
   "outputs": [
    {
     "name": "stdout",
     "output_type": "stream",
     "text": [
      "[1, 'hello', 3.14, 'key', True, False, 1, 2, 3, 'a,b,c']\n",
      "['a', 1, 2, 'b', 'c', 3, 4, 'd', 'hello']\n",
      "[1, 2, 3, 4, 5, 6, 7]\n"
     ]
    }
   ],
   "source": [
    "mixed1 = [1, [\"hello\", [3.14]], {\"key\": [True, False]},{(1,2,3):(\"a,b,c\")}]\n",
    "print(list(flatten_it(mixed1)))\n",
    "\n",
    "mixed2 = {\"a\": [1, 2], \"b\": {\"c\": [3, 4]}, \"d\": \"hello\"}\n",
    "print(flatten_it(mixed2, gen=True))\n",
    "\n",
    "mixed3 = [(1, 2), {3, 4}, [5, (6, 7)]]\n",
    "print(list(flatten_it(mixed3)))"
   ]
  },
  {
   "cell_type": "markdown",
   "metadata": {},
   "source": [
    "## Задание 6.3. Обработка циклических объектов"
   ]
  },
  {
   "cell_type": "code",
   "execution_count": 22,
   "metadata": {},
   "outputs": [],
   "source": [
    "it_list_cyclic = it_list[:]\n",
    "it_list_cyclic.append(it_list_cyclic)"
   ]
  },
  {
   "cell_type": "markdown",
   "metadata": {},
   "source": []
  },
  {
   "cell_type": "code",
   "execution_count": 23,
   "metadata": {},
   "outputs": [
    {
     "data": {
      "text/plain": [
       "[[1], [2, [3]], [[[[[4]]]]], 5, 6, 7, [...]]"
      ]
     },
     "execution_count": 23,
     "metadata": {},
     "output_type": "execute_result"
    }
   ],
   "source": [
    "it_list_cyclic"
   ]
  },
  {
   "cell_type": "code",
   "execution_count": 24,
   "metadata": {},
   "outputs": [],
   "source": [
    "def flatten_list_v1(nested_obj):\n",
    "    result = []\n",
    "    if isinstance(nested_obj,list):\n",
    "        for item in nested_obj:\n",
    "            if item is nested_obj:\n",
    "                raise ValueError(\"Cyclic list is found\") # генерация исключения\n",
    "            else:\n",
    "                result += flatten_list_v1(item)\n",
    "    else:\n",
    "        result += [nested_obj]\n",
    "    return result\n"
   ]
  },
  {
   "cell_type": "code",
   "execution_count": 25,
   "metadata": {},
   "outputs": [
    {
     "data": {
      "text/plain": [
       "[1, 2, 3, 4, 5, 6, 7]"
      ]
     },
     "execution_count": 25,
     "metadata": {},
     "output_type": "execute_result"
    }
   ],
   "source": [
    "flatten_list_v1(it_list)"
   ]
  },
  {
   "cell_type": "code",
   "execution_count": 26,
   "metadata": {},
   "outputs": [
    {
     "ename": "ValueError",
     "evalue": "Cyclic list is found",
     "output_type": "error",
     "traceback": [
      "\u001b[31m---------------------------------------------------------------------------\u001b[39m",
      "\u001b[31mValueError\u001b[39m                                Traceback (most recent call last)",
      "\u001b[36mCell\u001b[39m\u001b[36m \u001b[39m\u001b[32mIn[26]\u001b[39m\u001b[32m, line 1\u001b[39m\n\u001b[32m----> \u001b[39m\u001b[32m1\u001b[39m \u001b[43mflatten_list_v1\u001b[49m\u001b[43m(\u001b[49m\u001b[43mit_list_cyclic\u001b[49m\u001b[43m)\u001b[49m\n",
      "\u001b[36mCell\u001b[39m\u001b[36m \u001b[39m\u001b[32mIn[24]\u001b[39m\u001b[32m, line 6\u001b[39m, in \u001b[36mflatten_list_v1\u001b[39m\u001b[34m(nested_obj)\u001b[39m\n\u001b[32m      4\u001b[39m \u001b[38;5;28;01mfor\u001b[39;00m item \u001b[38;5;129;01min\u001b[39;00m nested_obj:\n\u001b[32m      5\u001b[39m     \u001b[38;5;28;01mif\u001b[39;00m item \u001b[38;5;129;01mis\u001b[39;00m nested_obj:\n\u001b[32m----> \u001b[39m\u001b[32m6\u001b[39m         \u001b[38;5;28;01mraise\u001b[39;00m \u001b[38;5;167;01mValueError\u001b[39;00m(\u001b[33m\"\u001b[39m\u001b[33mCyclic list is found\u001b[39m\u001b[33m\"\u001b[39m) \u001b[38;5;66;03m# генерация исключения\u001b[39;00m\n\u001b[32m      7\u001b[39m     \u001b[38;5;28;01melse\u001b[39;00m:\n\u001b[32m      8\u001b[39m         result += flatten_list_v1(item)\n",
      "\u001b[31mValueError\u001b[39m: Cyclic list is found"
     ]
    }
   ],
   "source": [
    "flatten_list_v1(it_list_cyclic)\n"
   ]
  },
  {
   "cell_type": "code",
   "execution_count": 27,
   "metadata": {},
   "outputs": [
    {
     "name": "stdout",
     "output_type": "stream",
     "text": [
      "Cyclic list is found\n"
     ]
    }
   ],
   "source": [
    "try:\n",
    "    print(flatten_list_v1(it_list_cyclic))\n",
    "except ValueError as e:\n",
    "    print(e)\n"
   ]
  },
  {
   "cell_type": "code",
   "execution_count": 29,
   "metadata": {},
   "outputs": [],
   "source": [
    "def flatten_it(nested_obj, gen=False):\n",
    "    \"\"\"\n",
    "    Выравнивает вложенную структуру из различных итерируемых объектов.\n",
    "    \n",
    "    Параметры:\n",
    "    ----------\n",
    "    nested_obj : any\n",
    "        Входной объект, который может быть итерируемым или нет.\n",
    "    gen : bool, optional\n",
    "        Флаг, определяющий тип возвращаемого значения:\n",
    "        - False (по умолчанию): возвращает генератор\n",
    "        - True: возвращает список\n",
    "    \"\"\"\n",
    "    if gen:\n",
    "        result = []\n",
    "        if hasattr(nested_obj, '__iter__'):\n",
    "            if isinstance(nested_obj, str):\n",
    "                result += [nested_obj]\n",
    "            elif isinstance(nested_obj, dict):\n",
    "                for key, value in nested_obj.items():\n",
    "                    if key is nested_obj or value is nested_obj:\n",
    "                        raise ValueError(\"Cyclic list is found\")\n",
    "                    result += flatten_it(key, gen=True)\n",
    "                    result += flatten_it(value, gen=True)\n",
    "            else:\n",
    "                for item in nested_obj:\n",
    "                    if item is nested_obj:\n",
    "                        raise ValueError(\"Cyclic list is found\")\n",
    "                    result += flatten_it(item, gen=True)\n",
    "        else:\n",
    "            result += [nested_obj]\n",
    "        return result\n",
    "    else:\n",
    "        if hasattr(nested_obj, '__iter__'):\n",
    "            if isinstance(nested_obj, str):\n",
    "                yield nested_obj\n",
    "            elif isinstance(nested_obj, dict):\n",
    "                for key, value in nested_obj.items():\n",
    "                    if key is nested_obj or value is nested_obj:\n",
    "                        raise ValueError(\"Cyclic list is found\")\n",
    "                    yield from flatten_it(key)\n",
    "                    yield from flatten_it(value)\n",
    "            else:\n",
    "                for item in nested_obj:\n",
    "                    if item is nested_obj:\n",
    "                        raise ValueError(\"Cyclic list is found\")\n",
    "                    yield from flatten_it(item)\n",
    "        else:\n",
    "            yield nested_obj\n"
   ]
  },
  {
   "cell_type": "markdown",
   "metadata": {},
   "source": [
    "### Задание 6.3.2. Тестирование функции `flatten_it`"
   ]
  },
  {
   "cell_type": "code",
   "execution_count": 30,
   "metadata": {},
   "outputs": [
    {
     "name": "stdout",
     "output_type": "stream",
     "text": [
      "[1, 2, 3, 4, 5, 6]\n",
      "<generator object flatten_it at 0x00000195ADEB6F00>\n",
      "\n",
      "['a', 1, 2, 'b', 'c', 3, 4, 'd', 'hello']\n",
      "<generator object flatten_it at 0x00000195ADEB6F00>\n",
      "\n",
      "Cyclic list is found\n",
      "\n",
      "Cyclic list is found\n"
     ]
    }
   ],
   "source": [
    "\n",
    "test1 = [1, [2, 3], [4, [5, 6]]]\n",
    "print(list(flatten_it(test1)))\n",
    "print(flatten_it(test1, gen=True))\n",
    "print()\n",
    "\n",
    "test2 = {\"a\": [1, 2], \"b\": {\"c\": [3, 4]}, \"d\": \"hello\"}\n",
    "print(list(flatten_it(test2)))\n",
    "print(flatten_it(test2, gen=True))\n",
    "print()\n",
    "\n",
    "test3 = [1, 2, 3]\n",
    "test3.append(test3)\n",
    "try:\n",
    "    print(list(flatten_it(test3)))\n",
    "except ValueError as e:\n",
    "    print(e)\n",
    "print()\n",
    "\n",
    "test4 = {\"a\": 1, \"b\": 2}\n",
    "test4[\"self\"] = test4\n",
    "try:\n",
    "    print(list(flatten_it(test4)))\n",
    "except ValueError as e:\n",
    "    print(e)"
   ]
  },
  {
   "cell_type": "code",
   "execution_count": null,
   "metadata": {},
   "outputs": [],
   "source": [
    "test_cyclic = {'a' : 1}\n",
    "test_cyclic['b'] = {2 : test_cyclic}\n",
    "print(test_cyclic)\n"
   ]
  },
  {
   "cell_type": "markdown",
   "metadata": {},
   "source": [
    "Код не работает, так как `2: test_cyclic` вложен в другой словарь и сравниваются значения внутри этого словаря, а не внешнего."
   ]
  },
  {
   "cell_type": "markdown",
   "metadata": {},
   "source": []
  }
 ],
 "metadata": {
  "kernelspec": {
   "display_name": "Python 3",
   "language": "python",
   "name": "python3"
  },
  "language_info": {
   "codemirror_mode": {
    "name": "ipython",
    "version": 3
   },
   "file_extension": ".py",
   "mimetype": "text/x-python",
   "name": "python",
   "nbconvert_exporter": "python",
   "pygments_lexer": "ipython3",
   "version": "3.13.2"
  }
 },
 "nbformat": 4,
 "nbformat_minor": 2
}
