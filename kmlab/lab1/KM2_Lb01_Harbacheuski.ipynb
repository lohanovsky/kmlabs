{
 "cells": [
  {
   "cell_type": "markdown",
   "metadata": {},
   "source": [
    "# Лабораторная работа 1\n",
    "# Задача о падении тела. Построение графиков функций\n"
   ]
  },
  {
   "cell_type": "markdown",
   "metadata": {},
   "source": [
    "Горбачевский Илья Александрович, 20.02.2025"
   ]
  },
  {
   "cell_type": "markdown",
   "metadata": {},
   "source": [
    "## Задание 1.1. Задача о падении тела"
   ]
  },
  {
   "cell_type": "markdown",
   "metadata": {},
   "source": [
    "**Описание процесса**.\n",
    "Тело запущено под углом $\\alpha$ к горизонту на высоте $h_{start}$ и через\n",
    "время $t=T$ достигает другое тело, расположенное на расстоянии $s_{end}$ и\n",
    "высоте $h_{end}$. "
   ]
  },
  {
   "cell_type": "markdown",
   "metadata": {},
   "source": [
    "**Предположения**.\n",
    "- Тело будем считать материальной точкой массы $m$.\n",
    "- Движение запущенного тела осуществляется только под действием силы\n",
    "тяжести $${\\bf F} = m (0,-g),$$ где $m$ -- масса тела, $g$ -- ускорение\n",
    "свободного падения.\n",
    "- Сопротивлением среды пренебрегаем.\n"
   ]
  },
  {
   "cell_type": "markdown",
   "metadata": {},
   "source": [
    "**Данные**. \n",
    "- Задача рассматривается при следующих значениях параметров: $h_{start}$ = 1 m, $h_{end}$ = 3 m, *T* = 3 s, $s_{end}$ = 5 m. \n",
    "- Угол запуска тела $\\alpha$ не известен. \n",
    "- Начальный момент времени движения тела полагаем равным нулю: *t* = 0 \n",
    "- Значение массы тела т не повлияет на функции перемещения тела."
   ]
  },
  {
   "cell_type": "markdown",
   "metadata": {},
   "source": [
    "## Выполнение Задания 1.1"
   ]
  },
  {
   "cell_type": "markdown",
   "metadata": {},
   "source": [
    "### Этап 1. Импортирование модулей\n"
   ]
  },
  {
   "cell_type": "markdown",
   "metadata": {},
   "source": [
    "Импортируем модуль math с математическими функциями из стандартной\n",
    "библиотеки:"
   ]
  },
  {
   "cell_type": "code",
   "execution_count": 2,
   "metadata": {},
   "outputs": [],
   "source": [
    "import math"
   ]
  },
  {
   "cell_type": "code",
   "execution_count": 3,
   "metadata": {},
   "outputs": [
    {
     "name": "stdout",
     "output_type": "stream",
     "text": [
      "Retrieving notices: done\n",
      "Channels:\n",
      " - defaults\n",
      "Platform: linux-64\n",
      "Collecting package metadata (repodata.json): done\n",
      "Solving environment: done\n",
      "\n",
      "# All requested packages already installed.\n",
      "\n",
      "\n",
      "Note: you may need to restart the kernel to use updated packages.\n"
     ]
    }
   ],
   "source": [
    "%conda install numpy -y"
   ]
  },
  {
   "cell_type": "markdown",
   "metadata": {},
   "source": [
    "Доступ к инструментам модуля осуществляется с применением синтаксиса\n",
    "уточнения `<имя модуля>.<имя атрибута>` .Например,"
   ]
  },
  {
   "cell_type": "code",
   "execution_count": 4,
   "metadata": {},
   "outputs": [
    {
     "data": {
      "text/plain": [
       "1.0"
      ]
     },
     "execution_count": 4,
     "metadata": {},
     "output_type": "execute_result"
    }
   ],
   "source": [
    "math.sin(math.pi/2)\n"
   ]
  },
  {
   "cell_type": "markdown",
   "metadata": {},
   "source": [
    "Импортируем расширение `numpy` и создадим псевдоним `np` для доступа к\n",
    "инструментам модуля, не используя имя `numpy`"
   ]
  },
  {
   "cell_type": "code",
   "execution_count": 5,
   "metadata": {},
   "outputs": [],
   "source": [
    "import numpy as np \n"
   ]
  },
  {
   "cell_type": "markdown",
   "metadata": {},
   "source": [
    "Расширение `numpy` основано на работе со структурой данных массив (` ndarray `).\n",
    "Массив (` ndarray `) не является встроенным типом данных Python, он является\n",
    "базовым типом расширения `numpy` .\n",
    "\n",
    "Импортируем модуль `pyplot` из пакета `matplotlib` для построения графиков.\n",
    "Для этого примененим синтаксис `<имя пакета>.<имя модуля в пакете>` и\n",
    "создадим псевдоним имени модуля `plt`\n"
   ]
  },
  {
   "cell_type": "code",
   "execution_count": 6,
   "metadata": {},
   "outputs": [
    {
     "name": "stdout",
     "output_type": "stream",
     "text": [
      "Channels:\n",
      " - defaults\n",
      "Platform: linux-64\n",
      "Collecting package metadata (repodata.json): done\n",
      "Solving environment: done\n",
      "\n",
      "# All requested packages already installed.\n",
      "\n",
      "\n",
      "Note: you may need to restart the kernel to use updated packages.\n"
     ]
    }
   ],
   "source": [
    "%conda install matplotlib -y"
   ]
  },
  {
   "cell_type": "code",
   "execution_count": 7,
   "metadata": {},
   "outputs": [],
   "source": [
    "import matplotlib.pyplot as plt"
   ]
  },
  {
   "cell_type": "markdown",
   "metadata": {},
   "source": [
    "Импортируем модуль `constants` из пакета расширений `scipy` с псевдонимом\n",
    "`const` . Модуль `constants` предоставляет доступ к значениям физических\n",
    "констант"
   ]
  },
  {
   "cell_type": "code",
   "execution_count": 8,
   "metadata": {},
   "outputs": [
    {
     "name": "stdout",
     "output_type": "stream",
     "text": [
      "Channels:\n",
      " - defaults\n",
      "Platform: linux-64\n",
      "Collecting package metadata (repodata.json): done\n",
      "Solving environment: done\n",
      "\n",
      "# All requested packages already installed.\n",
      "\n",
      "\n",
      "Note: you may need to restart the kernel to use updated packages.\n"
     ]
    }
   ],
   "source": [
    "%conda install scipy -y"
   ]
  },
  {
   "cell_type": "code",
   "execution_count": 9,
   "metadata": {},
   "outputs": [],
   "source": [
    "import scipy.constants as const"
   ]
  },
  {
   "cell_type": "markdown",
   "metadata": {},
   "source": [
    "Импортируем модуль `sympy` для символьных вычислений в Python"
   ]
  },
  {
   "cell_type": "code",
   "execution_count": 10,
   "metadata": {},
   "outputs": [
    {
     "name": "stdout",
     "output_type": "stream",
     "text": [
      "Channels:\n",
      " - defaults\n",
      "Platform: linux-64\n",
      "Collecting package metadata (repodata.json): done\n",
      "Solving environment: done\n",
      "\n",
      "# All requested packages already installed.\n",
      "\n",
      "\n",
      "Note: you may need to restart the kernel to use updated packages.\n"
     ]
    }
   ],
   "source": [
    "%conda install sympy -y"
   ]
  },
  {
   "cell_type": "code",
   "execution_count": 11,
   "metadata": {},
   "outputs": [
    {
     "name": "stdout",
     "output_type": "stream",
     "text": [
      "# packages in environment at /home/amogus/miniconda3/envs/clean_env:\n",
      "#\n",
      "# Name                    Version                   Build  Channel\n",
      "sympy                     1.13.3          py313h06a4308_1  \n",
      "\n",
      "Note: you may need to restart the kernel to use updated packages.\n"
     ]
    }
   ],
   "source": [
    "%conda list sympy"
   ]
  },
  {
   "cell_type": "code",
   "execution_count": 12,
   "metadata": {},
   "outputs": [
    {
     "name": "stdout",
     "output_type": "stream",
     "text": [
      "/home/amogus/miniconda3/envs/clean_env/bin/python\n"
     ]
    }
   ],
   "source": [
    "!which python"
   ]
  },
  {
   "cell_type": "code",
   "execution_count": 13,
   "metadata": {},
   "outputs": [],
   "source": [
    "import sympy # type: ignore"
   ]
  },
  {
   "cell_type": "markdown",
   "metadata": {},
   "source": [
    "## Этап 2. Создание переменных"
   ]
  },
  {
   "cell_type": "markdown",
   "metadata": {},
   "source": [
    "**Переменные** создаются при первом присваивании им значений. Слева от\n",
    "оператора присваивания (` = `) записывается переменная, справа — выражение,\n",
    "результатом вычисления которого является объект: `переменная = объект` . Имена\n",
    "переменных рекомендовано задавать в нижнем регистре с использованием знака\n",
    "нижнего подчеркивания для смыслового разделения имени на части, например\n",
    "`first_variable = 1` . Объявлять переменные перед их инициализацией не нужно.\n",
    "\n",
    "После присваивания всякий раз, когда переменная появляется в коде, она\n",
    "заменяется на объект, на который ссылается. Нельзя использовать переменную,\n",
    "которой не присвоено значение."
   ]
  },
  {
   "cell_type": "code",
   "execution_count": 14,
   "metadata": {},
   "outputs": [],
   "source": [
    "h_start = 1 # вертикальная составляющая положения тела в момент запуска\n",
    "h_end = 3.0E+0 # вертикальная составляющая положения тела в конечный момент движ\n",
    "T = 3.0 # время полета\n",
    "s_end = 5.0e0 # горизонтальное перемещение тела за время полета"
   ]
  },
  {
   "cell_type": "markdown",
   "metadata": {},
   "source": [
    "Отобразить значение переменной можно, указав ее имя в ячейке ввода в\n",
    "последней строке или с использованием встроенной функции `print`\n"
   ]
  },
  {
   "cell_type": "code",
   "execution_count": 15,
   "metadata": {},
   "outputs": [
    {
     "data": {
      "text/plain": [
       "3.0"
      ]
     },
     "execution_count": 15,
     "metadata": {},
     "output_type": "execute_result"
    }
   ],
   "source": [
    "h_start # переменная не отобразится\n",
    "h_end # переменная отобразится"
   ]
  },
  {
   "cell_type": "code",
   "execution_count": 16,
   "metadata": {},
   "outputs": [
    {
     "name": "stdout",
     "output_type": "stream",
     "text": [
      "1 3.0\n"
     ]
    }
   ],
   "source": [
    "print(h_start, h_end)"
   ]
  },
  {
   "cell_type": "markdown",
   "metadata": {},
   "source": [
    "Определим значение ускорения свободного падения для дальнейших расчетов:\n"
   ]
  },
  {
   "cell_type": "code",
   "execution_count": 17,
   "metadata": {},
   "outputs": [
    {
     "data": {
      "text/plain": [
       "(9.80665, 'm s^-2')"
      ]
     },
     "execution_count": 17,
     "metadata": {},
     "output_type": "execute_result"
    }
   ],
   "source": [
    "g = const.g\n",
    "g, const.unit('standard acceleration of gravity')"
   ]
  },
  {
   "cell_type": "markdown",
   "metadata": {},
   "source": [
    "$\\color{red}\\text{Приведите}$ несколько примеров физических констант из модуля\n",
    "`constants` пакета расширений `scipy` .\n",
    "\n",
    "Временной отрезок [0, *T*] представим в виде последовательности чисел. Cоздадим\n",
    "последовательность равномерно распределенных чисел на отрезке [0, *T*] с шагом\n",
    "0.01 двумя способами: на основе встроенного типа список (* list *) и на основе\n",
    "массива (* ndarray *) из расширения `numpy`"
   ]
  },
  {
   "cell_type": "code",
   "execution_count": 18,
   "metadata": {},
   "outputs": [
    {
     "name": "stdout",
     "output_type": "stream",
     "text": [
      "299792458.0 м/с\n"
     ]
    }
   ],
   "source": [
    "from scipy.constants import c\n",
    "print(c, \"м/с\")"
   ]
  },
  {
   "cell_type": "code",
   "execution_count": 19,
   "metadata": {},
   "outputs": [
    {
     "name": "stdout",
     "output_type": "stream",
     "text": [
      "6.62607015e-34 Дж·с\n"
     ]
    }
   ],
   "source": [
    "from scipy.constants import h\n",
    "print(h, \"Дж·с\")"
   ]
  },
  {
   "cell_type": "code",
   "execution_count": 20,
   "metadata": {},
   "outputs": [
    {
     "name": "stdout",
     "output_type": "stream",
     "text": [
      "3.141592653589793\n"
     ]
    }
   ],
   "source": [
    "from scipy.constants import pi\n",
    "print(pi)"
   ]
  },
  {
   "cell_type": "code",
   "execution_count": 21,
   "metadata": {},
   "outputs": [],
   "source": [
    "step = 0.01\n",
    "t_list = [0 + i*step for i in range(int(T/step))]\n",
    "t_array = np.arange(0,T,step)"
   ]
  },
  {
   "cell_type": "markdown",
   "metadata": {},
   "source": [
    "$\\color{red}\\text{Сформулируйте}$ спецификации функций `range` и `arange` ,\n",
    "приведите примеры.\n"
   ]
  },
  {
   "cell_type": "markdown",
   "metadata": {},
   "source": [
    "### *Спецификация range и arange:* "
   ]
  },
  {
   "cell_type": "markdown",
   "metadata": {},
   "source": [
    "Функция `range` встроена в Python и используется для создания последовательности целых чисел. Она возвращает объект типа `range`, который является итерируемым: "
   ]
  },
  {
   "cell_type": "code",
   "execution_count": 67,
   "metadata": {},
   "outputs": [
    {
     "name": "stdout",
     "output_type": "stream",
     "text": [
      "[0, 1, 2, 3, 4, 5, 6, 7, 8, 9, 10, 11, 12, 13, 14]\n",
      "[1, 3, 5, 7, 9, 11, 13]\n"
     ]
    }
   ],
   "source": [
    "print(list(range(15)))\n",
    "print(list(range(1, 15, 2)))"
   ]
  },
  {
   "cell_type": "markdown",
   "metadata": {},
   "source": [
    "`range(start, stop, step)`"
   ]
  },
  {
   "cell_type": "markdown",
   "metadata": {},
   "source": [
    "- start (опционально): Начальное значение последовательности (по умолчанию 0).\n",
    "\n",
    "- stop: Конечное значение последовательности (не включается в результат).\n",
    "\n",
    "- step (опционально): Шаг последовательности (по умолчанию 1)."
   ]
  },
  {
   "cell_type": "markdown",
   "metadata": {},
   "source": [
    "#### **Примеры:**\n",
    "- Создание последовательности от 0 до 4:"
   ]
  },
  {
   "cell_type": "code",
   "execution_count": 26,
   "metadata": {},
   "outputs": [
    {
     "name": "stdout",
     "output_type": "stream",
     "text": [
      "0\n",
      "1\n",
      "2\n",
      "3\n",
      "4\n"
     ]
    }
   ],
   "source": [
    "for i in range(5):\n",
    "    print(i)"
   ]
  },
  {
   "cell_type": "markdown",
   "metadata": {},
   "source": [
    "- Создание последовательности от 2 до 8 с шагом 2:"
   ]
  },
  {
   "cell_type": "code",
   "execution_count": 27,
   "metadata": {},
   "outputs": [
    {
     "name": "stdout",
     "output_type": "stream",
     "text": [
      "2\n",
      "4\n",
      "6\n",
      "8\n"
     ]
    }
   ],
   "source": [
    "for i in range(2, 9, 2):\n",
    "    print(i)"
   ]
  },
  {
   "cell_type": "markdown",
   "metadata": {},
   "source": [
    "- Преобразование range в список:"
   ]
  },
  {
   "cell_type": "code",
   "execution_count": 28,
   "metadata": {},
   "outputs": [
    {
     "name": "stdout",
     "output_type": "stream",
     "text": [
      "[1, 2, 3, 4, 5]\n"
     ]
    }
   ],
   "source": [
    "numbers = list(range(1, 6))\n",
    "print(numbers)"
   ]
  },
  {
   "cell_type": "markdown",
   "metadata": {},
   "source": [
    "Функция arange принадлежит библиотеке numpy и используется для создания массивов чисел с возможностью указания шага и типа данных."
   ]
  },
  {
   "cell_type": "markdown",
   "metadata": {},
   "source": [
    "`numpy.arange(start, stop, step, dtype=None)`"
   ]
  },
  {
   "cell_type": "markdown",
   "metadata": {},
   "source": [
    "- start (опционально): Начальное значение последовательности (по умолчанию 0).\n",
    "\n",
    "- stop: Конечное значение последовательности (не включается в результат).\n",
    "\n",
    "- step (опционально): Шаг последовательности (по умолчанию 1).\n",
    "\n",
    "- dtype (опционально): Тип данных элементов массива (например, int, float)."
   ]
  },
  {
   "cell_type": "markdown",
   "metadata": {},
   "source": [
    "#### **Примеры:**\n",
    "- Создание массива от 0 до 4:"
   ]
  },
  {
   "cell_type": "code",
   "execution_count": 29,
   "metadata": {},
   "outputs": [
    {
     "name": "stdout",
     "output_type": "stream",
     "text": [
      "[0 1 2 3 4]\n"
     ]
    }
   ],
   "source": [
    "import numpy as np\n",
    "arr = np.arange(5)\n",
    "print(arr)"
   ]
  },
  {
   "cell_type": "markdown",
   "metadata": {},
   "source": [
    "- Создание массива от 1.5 до 5.5 с шагом 0.5:"
   ]
  },
  {
   "cell_type": "code",
   "execution_count": 30,
   "metadata": {},
   "outputs": [
    {
     "name": "stdout",
     "output_type": "stream",
     "text": [
      "[1.5 2.  2.5 3.  3.5 4.  4.5 5. ]\n"
     ]
    }
   ],
   "source": [
    "import numpy as np\n",
    "arr = np.arange(1.5, 5.5, 0.5)\n",
    "print(arr)"
   ]
  },
  {
   "cell_type": "markdown",
   "metadata": {},
   "source": [
    "- Создание массива с типом данных float:"
   ]
  },
  {
   "cell_type": "code",
   "execution_count": null,
   "metadata": {},
   "outputs": [
    {
     "name": "stdout",
     "output_type": "stream",
     "text": [
      "[0. 1. 2. 3. 4.]\n"
     ]
    }
   ],
   "source": [
    "arr = np.arange(0, 5, 1, dtype=float)\n",
    "print(arr)"
   ]
  },
  {
   "cell_type": "code",
   "execution_count": 70,
   "metadata": {},
   "outputs": [
    {
     "name": "stdout",
     "output_type": "stream",
     "text": [
      "[0. 1. 2. 3. 4.]\n"
     ]
    }
   ],
   "source": [
    "arr = np.arange(0.,5,1)\n",
    "print(arr)"
   ]
  },
  {
   "cell_type": "markdown",
   "metadata": {},
   "source": [
    "Основные различия между range и arange:\n",
    "1) Библиотека:\n",
    "\n",
    "- range — встроенная функция Python.\n",
    "\n",
    "- arange — функция из библиотеки numpy.\n",
    "\n",
    "2) Тип возвращаемого значения:\n",
    "\n",
    "- range возвращает объект типа range (итерируемый).\n",
    "\n",
    "- arange возвращает массив numpy.ndarray.\n",
    "\n",
    "3) Поддержка типов данных:\n",
    "\n",
    "- range работает только с целыми числами.\n",
    "\n",
    "- arange поддерживает различные типы данных (например, float).\n",
    "\n",
    "4) Использование:\n",
    "\n",
    "- range обычно используется в циклах и для создания последовательностей целых чисел.\n",
    "\n",
    "- arange используется для создания массивов чисел, особенно в научных вычислениях."
   ]
  },
  {
   "cell_type": "markdown",
   "metadata": {},
   "source": [
    "Запомните, что после создания списка (` list `) его размер изменить можно, после\n",
    "создания массива (` ndarray `) его размер изменить нельзя."
   ]
  },
  {
   "cell_type": "markdown",
   "metadata": {},
   "source": [
    "## Этап 3. Определение функции перемещения и нахождение угла запуска тела"
   ]
  },
  {
   "cell_type": "markdown",
   "metadata": {},
   "source": [
    "Полагаем, что начало прямоугольной декартовой системы координат соответствует\n",
    "уровню земли. Тогда в начальный момент движения тела *t* = 0 имеем, что \n",
    "\n",
    "\n",
    "$$s_{x}(0) = 0, s_{y}(0) = h_{start}$$\n"
   ]
  },
  {
   "cell_type": "markdown",
   "metadata": {},
   "source": [
    "Для построения функции перемещения $(s_{x}(t), s_{y}(t))$ воспользуемся вторым законом Ньютона"
   ]
  },
  {
   "cell_type": "markdown",
   "metadata": {},
   "source": [
    "$$m{\\bf a} = {\\bf F}, $$"
   ]
  },
  {
   "cell_type": "markdown",
   "metadata": {},
   "source": [
    "где m — масса тела, ускорение движения тела ${\\bf a}$ = ($s''_{x}(t)$, $s''_{y}(t)$) и приложенная ${\\bf F} = m (0,-g)$. В результате имеем два уравнения, что\n"
   ]
  },
  {
   "cell_type": "markdown",
   "metadata": {},
   "source": [
    "$$s''_{t} = 0, s''_{t} = -g.$$"
   ]
  },
  {
   "cell_type": "markdown",
   "metadata": {},
   "source": [
    "На основании уравнений с учетом начальных условий можно записать\n",
    "аналитический вид для функций $s_{x}(t)$  и  $s_{y}(t)$"
   ]
  },
  {
   "cell_type": "markdown",
   "metadata": {},
   "source": [
    "$$s_{x}(t) = s_{x}(0) + v0_{x}(t) = 0 + v0_{x}(t), $$"
   ]
  },
  {
   "cell_type": "markdown",
   "metadata": {},
   "source": [
    "$$s_{y}(t) = s_{y}(0) + v0_{x}(t) - g\\frac{t^{2}}{2} = h_{start} + v0_{y}(t) - g\\frac{t^{2}}{2}, $$"
   ]
  },
  {
   "cell_type": "markdown",
   "metadata": {},
   "source": [
    "где ${\\bf V0}$ = $(v0_{x}, v0_{y})$ обозначает неизвестную скорость движения тела в начальный\n",
    "момент времени *t* = 0"
   ]
  },
  {
   "cell_type": "markdown",
   "metadata": {},
   "source": [
    "$\\color{red}\\text{Напишите}$ подробно, как из второго закона Ньютона и начальных\n",
    "условий получен аналитический вид функции перемещения $(s_{x}(t), s_{y}(t))$.\n",
    "Объяснения оформите в тексте документа с лабораторной работой."
   ]
  },
  {
   "cell_type": "markdown",
   "metadata": {},
   "source": [
    "Рассмотрим подробно, как из второго закона Ньютона и начальных условий получаются аналитические выражения для функций перемещения ${s_{x}(t)}$ и ${s_{y}(t)}$. Второй закон Ньютона утверждает, что ускорение тела *a* связано с силой *F*, действующей на тело, и его массой *m*: \n",
    "$$ m{\\bf a} = {\\bf F}, $$\n",
    "В случае свободного падения тела на него действует сила тяжести ${\\bf F} = m {\\bf g}$, где g = (0,-g) - ускорение свободного падения (направлено вниз по оси y)."
   ]
  },
  {
   "cell_type": "markdown",
   "metadata": {},
   "source": [
    "Ускорение — это вторая производная перемещения по времени. Движение равномерное по оси X, так как ускорение отсутствует (${a_x} = 0$). Перемещение линейно зависит от времени."
   ]
  },
  {
   "cell_type": "markdown",
   "metadata": {},
   "source": [
    "По оси Y движение равноускоренное под действием силы тяжести. Перемещение зависит от времени квадратично."
   ]
  },
  {
   "cell_type": "markdown",
   "metadata": {},
   "source": [
    "$\\color{red}\\text{Задание* необязательно}$ как изменится вид функций перемещения, если начальный момент времени будет равен не *t* = 0, а *t* = *t**?"
   ]
  },
  {
   "cell_type": "markdown",
   "metadata": {},
   "source": [
    "Если начальный момент времени *t* = 0 смещается на *t* = *t**, то уравнения для перемещения тела по осям *х* и *у* изменятся следующим образом:\n",
    "- Перемещение по оси Х:\n",
    "$$s_{x}(t) = s_{x}(t^{*}) + v0_{x}(t - t^{*})$$\n",
    "- Перемещение по оси Y:\n",
    "$$s_{y}(t) = s_{y}(t^{*}) + v0_{x}(t - t^{*}) - g\\frac{(t - t^{*})^{2}}{2} $$"
   ]
  },
  {
   "cell_type": "markdown",
   "metadata": {},
   "source": [
    "Из условия задачи имеем, что $s_{x}(T) = s_{end}$. Из этого соотношения находим\n",
    "значение для $v0_{x}$"
   ]
  },
  {
   "cell_type": "code",
   "execution_count": 32,
   "metadata": {},
   "outputs": [
    {
     "data": {
      "text/plain": [
       "1.6666666666666667"
      ]
     },
     "execution_count": 32,
     "metadata": {},
     "output_type": "execute_result"
    }
   ],
   "source": [
    "v0_x = s_end/T\n",
    "v0_x"
   ]
  },
  {
   "cell_type": "markdown",
   "metadata": {},
   "source": [
    "Из условия задачи имеем, что $s_{y}(T) = h_{end}$. Из этого соотношения находим\n",
    "значение для $v0_{y}$"
   ]
  },
  {
   "cell_type": "code",
   "execution_count": 33,
   "metadata": {},
   "outputs": [
    {
     "data": {
      "text/plain": [
       "15.376641666666666"
      ]
     },
     "execution_count": 33,
     "metadata": {},
     "output_type": "execute_result"
    }
   ],
   "source": [
    "v0_y = (h_end-h_start+g/2*T**2)/T\n",
    "v0_y"
   ]
  },
  {
   "cell_type": "markdown",
   "metadata": {},
   "source": [
    "Значение угла запуска тела $\\alpha$ определяем из соотношения tan $\\alpha = \\frac{v0_{y}}{v0_{x}}$"
   ]
  },
  {
   "cell_type": "code",
   "execution_count": 34,
   "metadata": {},
   "outputs": [
    {
     "data": {
      "text/plain": [
       "(1.462828312588189, 83.81388846354714)"
      ]
     },
     "execution_count": 34,
     "metadata": {},
     "output_type": "execute_result"
    }
   ],
   "source": [
    "alpha = math.atan(v0_y/v0_x)\n",
    "alpha, math.degrees(alpha)"
   ]
  },
  {
   "cell_type": "markdown",
   "metadata": {},
   "source": [
    "Результирующая функция перемещения имеет следующий вид"
   ]
  },
  {
   "cell_type": "code",
   "execution_count": 35,
   "metadata": {},
   "outputs": [
    {
     "data": {
      "text/plain": [
       "'s_x(t) = 1.6666666666666667 t'"
      ]
     },
     "execution_count": 35,
     "metadata": {},
     "output_type": "execute_result"
    }
   ],
   "source": [
    "f's_x(t) = {v0_x} t'"
   ]
  },
  {
   "cell_type": "code",
   "execution_count": 36,
   "metadata": {},
   "outputs": [
    {
     "data": {
      "text/plain": [
       "'s_y(t) = 1 + 15.3766 t - 9.80665/2*t²'"
      ]
     },
     "execution_count": 36,
     "metadata": {},
     "output_type": "execute_result"
    }
   ],
   "source": [
    "f's_y(t) = {h_start} + {v0_y:.6} t - {g:.6}/2*t\\N{superscript two}'\n"
   ]
  },
  {
   "cell_type": "markdown",
   "metadata": {},
   "source": [
    "## Этап 4. Построение графика траектории движения тела"
   ]
  },
  {
   "cell_type": "markdown",
   "metadata": {},
   "source": [
    "Построение графиков функций осуществляется по координатам точек графика. Для\n",
    "этого нужно создать последовательность значений *x*-координат точек графика функции и последовательность соответствующих значений *y*-координат точек графика функции."
   ]
  },
  {
   "cell_type": "markdown",
   "metadata": {},
   "source": [
    "На Этапе 2 было создано две последовательности равномерно распределенных\n",
    "чисел на отрезке [0, *T*] с шагом 0.01 для переменной времени *t*"
   ]
  },
  {
   "cell_type": "code",
   "execution_count": 37,
   "metadata": {},
   "outputs": [],
   "source": [
    "t_list, t_array;"
   ]
  },
  {
   "cell_type": "markdown",
   "metadata": {},
   "source": [
    "Определим списки чисел, соответствующие горизонтальным и вертикальным\n",
    "составляющим положения тела в моменты времени `t_list` с использованием\n",
    "формул, полученных на Этапе 3:"
   ]
  },
  {
   "cell_type": "code",
   "execution_count": 38,
   "metadata": {},
   "outputs": [],
   "source": [
    "s_x_list = [v0_x*t for t in t_list]\n",
    "s_y_list = [h_start+v0_y*t-g*t**2/2 for t in t_list]"
   ]
  },
  {
   "cell_type": "markdown",
   "metadata": {},
   "source": [
    "Определим массивы чисел, соответствующие горизонтальным и вертикальным\n",
    "составляющим положения тела в момент времени `t_array `:\n"
   ]
  },
  {
   "cell_type": "code",
   "execution_count": 39,
   "metadata": {},
   "outputs": [],
   "source": [
    "s_x_array = v0_x*t_array\n",
    "s_y_array = h_start+v0_y*t_array-g*t_array**2/2"
   ]
  },
  {
   "cell_type": "markdown",
   "metadata": {},
   "source": [
    "Обратите внимание, что арифметические действия (+,-, *,/, **) с массивами\n",
    "`ndarray` выполняются **поэлементно** без использования дополнительного\n",
    "синтаксиса.\n"
   ]
  },
  {
   "cell_type": "markdown",
   "metadata": {},
   "source": [
    "Строим график траектории движения тела, используя инструменты модуля `pyplot`\n",
    "пакета `matplotlib` . Смотрите **Help | Matplotlib Reference** для справочной\n",
    "информации по используемым функциям: `figure` , `plot` , `title` , `xlabel` ,\n",
    "`ylabel` , `axis` , `xlim` , `ylim` ."
   ]
  },
  {
   "cell_type": "code",
   "execution_count": 73,
   "metadata": {},
   "outputs": [
    {
     "data": {
      "text/plain": [
       "(np.float64(0.0), np.float64(5.0), np.float64(0.0), np.float64(14.0))"
      ]
     },
     "execution_count": 73,
     "metadata": {},
     "output_type": "execute_result"
    },
    {
     "data": {
      "image/png": "[encoded data removed]",
      "text/plain": [
       "<Figure size 640x480 with 1 Axes>"
      ]
     },
     "metadata": {},
     "output_type": "display_data"
    }
   ],
   "source": [
    "plt.figure()\n",
    "plt.plot(s_x_list,s_y_list,'b-',lw=1)\n",
    "plt.title('Вертикальное перемещение тела')\n",
    "plt.xlabel('x (m)'); plt.ylabel('y (m)') \n",
    "plt.axis([0, s_end, 0, h_end+11])"
   ]
  },
  {
   "cell_type": "markdown",
   "metadata": {},
   "source": [
    "При вызове функции `plot` из `pyplot` можно использовать как списки, так и\n",
    "массивы."
   ]
  },
  {
   "cell_type": "code",
   "execution_count": 72,
   "metadata": {},
   "outputs": [
    {
     "data": {
      "text/plain": [
       "(0.0, 14.0)"
      ]
     },
     "execution_count": 72,
     "metadata": {},
     "output_type": "execute_result"
    },
    {
     "data": {
      "image/png": "[encoded data removed]",
      "text/plain": [
       "<Figure size 640x480 with 1 Axes>"
      ]
     },
     "metadata": {},
     "output_type": "display_data"
    }
   ],
   "source": [
    "plt.figure()\n",
    "plt.plot(s_x_array,s_y_array,color='green',lw=5)\n",
    "plt.title('Вертикальное перемещение тела')\n",
    "plt.xlabel('x (m)'); plt.ylabel('y (m)')\n",
    "# альтернативный синтаксис для установки пределов по осям\n",
    "plt.xlim(0, s_end)\n",
    "plt.ylim(0, h_end+11)"
   ]
  },
  {
   "cell_type": "markdown",
   "metadata": {},
   "source": [
    "## Задание 1.2. Определение момента времени касания телом земли"
   ]
  },
  {
   "cell_type": "markdown",
   "metadata": {},
   "source": [
    "## Выполнение Задания 1.2"
   ]
  },
  {
   "cell_type": "markdown",
   "metadata": {},
   "source": [
    "Рассмотрим *Подход 1* выполнения Задания 1.2.\n"
   ]
  },
  {
   "cell_type": "markdown",
   "metadata": {},
   "source": [
    "Для решения алгебраического уравнения $s_{y}(t) = 0$ воспользуемся функцией\n",
    "`solve` из модуля `sympy` , которая предназначена для решения алгебраических\n",
    "уравнений и систем уравнений. Для выполнения функции `solve` предварительно с\n",
    "помощью функции `symbols` необходимо создать **символьную переменную**,\n",
    "относительно которой будет определено уравнение.\n"
   ]
  },
  {
   "cell_type": "code",
   "execution_count": 42,
   "metadata": {},
   "outputs": [
    {
     "data": {
      "text/plain": [
       "[-0.0637382309488101, 3.19970039267921]"
      ]
     },
     "execution_count": 42,
     "metadata": {},
     "output_type": "execute_result"
    }
   ],
   "source": [
    "t = sympy.symbols('t')\n",
    "result = sympy.solve(h_start+v0_y*t-g*t**2/2, t)\n",
    "result"
   ]
  },
  {
   "cell_type": "code",
   "execution_count": 43,
   "metadata": {},
   "outputs": [
    {
     "data": {
      "text/latex": [
       "$\\displaystyle 3.19970039267921$"
      ],
      "text/plain": [
       "3.19970039267921"
      ]
     },
     "execution_count": 43,
     "metadata": {},
     "output_type": "execute_result"
    }
   ],
   "source": [
    "t_star_exact = result[-1]\n",
    "t_star_exact"
   ]
  },
  {
   "cell_type": "markdown",
   "metadata": {},
   "source": [
    "$\\color{red}\\text{Сформулируйте}$\n",
    "спецификации функций `symbols` и `solve` из\n",
    "модуля `sympy` . $\\color{red}\\text{Приведите}$ два собственных примера решения\n",
    "алгебраических уравнений"
   ]
  },
  {
   "cell_type": "markdown",
   "metadata": {},
   "source": [
    "### *Спецификация symbol и solve:* "
   ]
  },
  {
   "cell_type": "markdown",
   "metadata": {},
   "source": [
    "Функция `symbols` используется для создания символьных переменных, которые могут быть использованы в символьных вычислениях."
   ]
  },
  {
   "cell_type": "markdown",
   "metadata": {},
   "source": [
    "$$sympy.symbols(symbols, **args)$$"
   ]
  },
  {
   "cell_type": "markdown",
   "metadata": {},
   "source": [
    "- `symbols`: Строка, содержащая имена переменных, разделенных пробелами или запятыми.\n",
    "\n",
    "- `**args`: Дополнительные аргументы, которые могут быть переданы для настройки поведения функции.\n",
    "\n",
    "- Возвращает кортеж символьных переменных, соответствующих именам, переданным в `symbols`."
   ]
  },
  {
   "cell_type": "markdown",
   "metadata": {},
   "source": [
    "Функция `solve` используется для решения алгебраических уравнений."
   ]
  },
  {
   "cell_type": "markdown",
   "metadata": {},
   "source": [
    "$$sympy.solve(f, *symbols, **flags)$$"
   ]
  },
  {
   "cell_type": "markdown",
   "metadata": {},
   "source": [
    "- `f`: Уравнение или сис-ма уравнений\n",
    "\n",
    "- `*symbols`: Символы, относительно которых нужно решить уравнение.\n",
    "\n",
    "- `**flags`: Дополнительные флаги\n",
    "\n",
    "- Возвращает список решений уравнения или системы уравнений."
   ]
  },
  {
   "cell_type": "markdown",
   "metadata": {},
   "source": [
    "#### *Примеры решения алгебраических уравнений*"
   ]
  },
  {
   "cell_type": "markdown",
   "metadata": {},
   "source": [
    "- Решение линейного уравнения"
   ]
  },
  {
   "cell_type": "code",
   "execution_count": 79,
   "metadata": {},
   "outputs": [
    {
     "data": {
      "text/plain": [
       "[0.0]"
      ]
     },
     "execution_count": 79,
     "metadata": {},
     "output_type": "execute_result"
    }
   ],
   "source": [
    "x = sp.symbols('x')\n",
    "equation = 1/2*(x-2)+1\n",
    "solution = sp.solve(equation, x)\n",
    "solution"
   ]
  },
  {
   "cell_type": "markdown",
   "metadata": {},
   "source": [
    "- Решение квадратного уравнения"
   ]
  },
  {
   "cell_type": "code",
   "execution_count": 80,
   "metadata": {},
   "outputs": [
    {
     "data": {
      "text/plain": [
       "[2, 3]"
      ]
     },
     "execution_count": 80,
     "metadata": {},
     "output_type": "execute_result"
    }
   ],
   "source": [
    "x = sp.symbols('x')\n",
    "equation = x**2 - 5*x + 6\n",
    "solution = sp.solve(equation, x)\n",
    "solution"
   ]
  },
  {
   "cell_type": "markdown",
   "metadata": {},
   "source": [
    "Функции `symbols` и `solve` из sympy помогают просто решать уравнения и системы"
   ]
  },
  {
   "cell_type": "markdown",
   "metadata": {},
   "source": [
    "## Задание 1.3. Построение секущей, касательной и нормали к графику функции"
   ]
  },
  {
   "cell_type": "markdown",
   "metadata": {},
   "source": [
    "## Выполнение Задания 1.3"
   ]
  },
  {
   "cell_type": "markdown",
   "metadata": {},
   "source": [
    "Подготовим необходимые данные для построения секущей прямой к траектории\n",
    "движения тела."
   ]
  },
  {
   "cell_type": "markdown",
   "metadata": {},
   "source": [
    "Воспользуемся векторно-параметрическим уравнением прямой для заданной точки $p_{start}$ лежащей на прямой, и заданного направляющего вектора *a* $$p(t) = p_{start} + at.$$"
   ]
  },
  {
   "cell_type": "markdown",
   "metadata": {},
   "source": [
    "Направляющий вектор можно определить как *a* = $p_{end} - p_{end}$, где точка $p_{end}$ лежит на прямой и отлична от точки $p_{start}$"
   ]
  },
  {
   "cell_type": "markdown",
   "metadata": {},
   "source": [
    "Введем новые переменные для описания начальной точки $p_{start}$ и конечной точки $p_{end}$ через их координаты. Для новых переменных используем тип массив\n",
    "(` ndarray `) из `numpy` . Представление координат точек в виде массивов иногда\n",
    "эффективнее, чем представление в виде списков, для дальнейшей работы с\n",
    "координатами."
   ]
  },
  {
   "cell_type": "code",
   "execution_count": 46,
   "metadata": {},
   "outputs": [
    {
     "data": {
      "text/plain": [
       "(array([0., 1.]), array([4.98333333, 3.13994275]))"
      ]
     },
     "execution_count": 46,
     "metadata": {},
     "output_type": "execute_result"
    }
   ],
   "source": [
    "p_start = np.array([s_x_array[0],s_y_array[0]])\n",
    "p_end = np.array([s_x_array[-1],s_y_array[-1]])\n",
    "p_start, p_end"
   ]
  },
  {
   "cell_type": "markdown",
   "metadata": {},
   "source": [
    "Вычислим направляющий вектор:"
   ]
  },
  {
   "cell_type": "code",
   "execution_count": 47,
   "metadata": {},
   "outputs": [],
   "source": [
    "a = p_end-p_start"
   ]
  },
  {
   "cell_type": "markdown",
   "metadata": {},
   "source": [
    "Для построения графика прямой достаточно задания двух точек, лежащих на\n",
    "прямой:"
   ]
  },
  {
   "cell_type": "code",
   "execution_count": 48,
   "metadata": {},
   "outputs": [],
   "source": [
    "p = [p_start + a*t for t in [-1, 2]]\n",
    "p = np.array(p)"
   ]
  },
  {
   "cell_type": "markdown",
   "metadata": {},
   "source": [
    "Построим график траектории движения тела и график секущей прямой в одной\n",
    "графической области:"
   ]
  },
  {
   "cell_type": "code",
   "execution_count": 81,
   "metadata": {},
   "outputs": [
    {
     "data": {
      "image/png": "[encoded data removed]",
      "text/plain": [
       "<Figure size 640x480 with 1 Axes>"
      ]
     },
     "metadata": {},
     "output_type": "display_data"
    }
   ],
   "source": [
    "fig = plt.figure()\n",
    "plt.plot(s_x_array,s_y_array,'b-',lw=2)\n",
    "plt.plot(p[:,0],p[:,1],'--',color='red',lw=1)\n",
    "plt.xlabel('x (m)'); plt.ylabel('y (m)')\n",
    "plt.axis([-5, s_end+5, 0, h_end+11]);"
   ]
  },
  {
   "cell_type": "markdown",
   "metadata": {},
   "source": [
    "$\\color{red}\\text{Постройте}$ график касательной прямой к траектории движения\n",
    "тела в одной графической области с траекторией движения и секущей прямой. Для\n",
    "построения касательной прямой воспользуйтесь уравнением прямой по точке $p_{start} (x_{start}, y_{start})$ и угловому коэффициенту k: \n"
   ]
  },
  {
   "cell_type": "code",
   "execution_count": 82,
   "metadata": {},
   "outputs": [],
   "source": [
    "import numpy as np\n",
    "import matplotlib.pyplot as plt\n",
    "\n",
    "t0 = 1.6\n",
    "x0 = v0_x * t0\n",
    "y0 = h_start + v0_y * t0 - g * t0**2 / 2\n",
    "\n",
    "k = (v0_y - g * t0) / v0_x\n",
    "\n",
    "# y = k*(x - x0) + y0\n",
    "x_tangent = np.linspace(x0 - 1, x0 + 1, 100)\n",
    "y_tangent = k * (x_tangent - x0) + y0"
   ]
  },
  {
   "cell_type": "code",
   "execution_count": 90,
   "metadata": {},
   "outputs": [
    {
     "data": {
      "image/png": "[encoded data removed]",
      "text/plain": [
       "<Figure size 640x480 with 1 Axes>"
      ]
     },
     "metadata": {},
     "output_type": "display_data"
    }
   ],
   "source": [
    "plt.plot(s_x_array, s_y_array, 'b-', lw=2)\n",
    "plt.plot(x_tangent, y_tangent, 'r', lw=2)\n",
    "plt.plot(p[:,0],p[:,1],'--',color='red',lw=1)\n",
    "plt.scatter([x0], [y0], color='black')\n",
    "plt.grid()\n",
    "plt.axis([-5, s_end+5, 0, h_end+11])\n",
    "plt.show()"
   ]
  },
  {
   "cell_type": "markdown",
   "metadata": {},
   "source": [
    "Угловой коэффициент *k* касательной к графику функции *y(t)* в точке *t* = $t_{0}$ равен производной в этой точке"
   ]
  },
  {
   "cell_type": "code",
   "execution_count": null,
   "metadata": {},
   "outputs": [],
   "source": [
    "k_normal = -v0_x / v0_y  \n",
    "x_normal = np.linspace(-1, 1, 100)  \n",
    "y_normal = k_normal * x_normal + h_start  "
   ]
  },
  {
   "cell_type": "code",
   "execution_count": 91,
   "metadata": {},
   "outputs": [
    {
     "data": {
      "image/png": "[encoded data removed]",
      "text/plain": [
       "<Figure size 640x480 with 1 Axes>"
      ]
     },
     "metadata": {},
     "output_type": "display_data"
    }
   ],
   "source": [
    "plt.figure()\n",
    "plt.plot(s_x_list, s_y_list, 'b-', lw=2)\n",
    "plt.plot(x_tangent, y_tangent, 'r', lw=2)\n",
    "plt.plot(p[:,0],p[:,1],'--',color='red',lw=1)\n",
    "plt.plot(x_normal, y_normal, 'g--', lw=2)\n",
    "plt.xlabel('x (m)')\n",
    "plt.ylabel('y (m)')\n",
    "plt.axis([-5, s_end+5, 0, h_end+15])\n",
    "plt.show()"
   ]
  },
  {
   "cell_type": "markdown",
   "metadata": {},
   "source": [
    "Чтобы построить нормальную прямую к траектории движения тела в момент времени *t* = 0, воспользуемся свойством перпендикулярности касательной и нормальной прямых. Нормальная прямая перпендикулярна касательной, и её угловой коэффициент $k_{n}$ связан с угловым коэффициентом касательной *k* следующим соотношением: $$k_{n} = -\\frac{1}{k}$$"
   ]
  },
  {
   "cell_type": "markdown",
   "metadata": {},
   "source": [
    "Таким образом в момент времени *t* = 0 угловой коэффициент k вычисляется так: $$k = \\frac{v0_{y}}{v0_{x}}$$"
   ]
  },
  {
   "cell_type": "markdown",
   "metadata": {},
   "source": [
    "Используя соотношение, полученное ранее, можно получить соотношение для коэффициента нормали $k_{n}$: $$k_{n} = - \\frac{v0_{x}}{v0_{y}}$$"
   ]
  },
  {
   "cell_type": "markdown",
   "metadata": {},
   "source": [
    "## Задание 1.4. Построение графиков функций\n"
   ]
  },
  {
   "cell_type": "markdown",
   "metadata": {},
   "source": [
    "$\\color{red}\\text{Постройте}$ графики функций на плоскости по координатам точек\n",
    "согласно варианту. Функция задана:\n",
    "- а) полярным уравнением *ρ = ρ(φ)* в полярной системе координат *(ρ,φ)*;\n",
    "- б) параметрическими уравнениями *x = x(t)*, *y = y(t)* в декартовой системе\n",
    "координат *(x,y)*"
   ]
  },
  {
   "cell_type": "markdown",
   "metadata": {},
   "source": [
    "Построение графиков функций осуществляется по координатам точек графика. Для\n",
    "этого нужно создать последовательность значений *x(φ)*-координат точек графика\n",
    "функции и последовательность соответствующих значений *y(ρ)*-координат точек\n",
    "графика функции.\n",
    " "
   ]
  },
  {
   "cell_type": "markdown",
   "metadata": {},
   "source": [
    "## Вариант 6"
   ]
  },
  {
   "cell_type": "markdown",
   "metadata": {},
   "source": [
    "#### *пункт а)*"
   ]
  },
  {
   "cell_type": "code",
   "execution_count": 95,
   "metadata": {},
   "outputs": [
    {
     "data": {
      "image/png": "[encoded data removed]",
      "text/plain": [
       "<Figure size 640x480 with 1 Axes>"
      ]
     },
     "metadata": {},
     "output_type": "display_data"
    }
   ],
   "source": [
    "import numpy as np\n",
    "import matplotlib.pyplot as plt\n",
    "plt.figure()\n",
    "plt.axes(projection='polar')\n",
    "phi = np.linspace(0, 2*np.pi, 1000)\n",
    "snail_params = [\n",
    "    (1, 2),\n",
    "    (3, 4),\n",
    "    (5, 6),\n",
    "    (2, 5),\n",
    "    (4, 3)\n",
    "]\n",
    "for a,b in snail_params:\n",
    "    r = a*np.cos(phi)+b\n",
    "    plt.plot(phi,r);\n",
    "\n",
    "\n"
   ]
  },
  {
   "cell_type": "markdown",
   "metadata": {},
   "source": [
    "#### *пункт б)*"
   ]
  },
  {
   "cell_type": "code",
   "execution_count": 55,
   "metadata": {},
   "outputs": [
    {
     "data": {
      "image/png": "[encoded data removed]",
      "text/plain": [
       "<Figure size 640x480 with 1 Axes>"
      ]
     },
     "metadata": {},
     "output_type": "display_data"
    }
   ],
   "source": [
    "import numpy as np\n",
    "import matplotlib.pyplot as plt\n",
    "\n",
    "t = np.linspace(0,1,1000)\n",
    "et = np.exp(t)\n",
    "tan_et = np.tan(et)\n",
    "mask = tan_et > 0\n",
    "x = 1 / np.tan(2*et[mask])\n",
    "y = np.log(tan_et[mask])\n",
    "plt.figure()\n",
    "plt.plot(x, y, 'b-', label='График параметрических уравнений')\n",
    "plt.xlabel('x')\n",
    "plt.ylabel('y')\n",
    "plt.show()"
   ]
  },
  {
   "cell_type": "markdown",
   "metadata": {},
   "source": [
    "#### Контрольные вопросы"
   ]
  },
  {
   "cell_type": "markdown",
   "metadata": {},
   "source": [
    "### ЛБ01 Часть 1. Введение в язык программирования Python"
   ]
  },
  {
   "cell_type": "markdown",
   "metadata": {},
   "source": [
    "#### 1. Основатель языка Python, история создания и текущие позиции в рейтинге"
   ]
  },
  {
   "cell_type": "markdown",
   "metadata": {},
   "source": [
    "#### 2. Преимущества языка Python"
   ]
  },
  {
   "cell_type": "markdown",
   "metadata": {},
   "source": [
    "#### 3. Поддержка нескольких парадигм программирования"
   ]
  },
  {
   "cell_type": "markdown",
   "metadata": {},
   "source": [
    "#### 4. Интерпретируемый язык программирования"
   ]
  },
  {
   "cell_type": "markdown",
   "metadata": {},
   "source": [
    "#### 5. Основной недостаток Python"
   ]
  },
  {
   "cell_type": "markdown",
   "metadata": {},
   "source": [
    "#### 6. Области применения и известные продукты"
   ]
  },
  {
   "cell_type": "markdown",
   "metadata": {},
   "source": [
    "#### 7. Структура программы на Python"
   ]
  },
  {
   "cell_type": "markdown",
   "metadata": {},
   "source": [
    "#### 8. Особенности синтаксиса Python"
   ]
  },
  {
   "cell_type": "markdown",
   "metadata": {},
   "source": [
    "#### 9. PEP 8"
   ]
  },
  {
   "cell_type": "markdown",
   "metadata": {},
   "source": [
    "#### 10. JupyterLab — свободное ПО с открытым кодом"
   ]
  },
  {
   "cell_type": "markdown",
   "metadata": {},
   "source": [
    "### ЛБ01 Часть 2. Работа с ячейками в документе .ipynb"
   ]
  },
  {
   "cell_type": "markdown",
   "metadata": {},
   "source": [
    "#### 1. Определения сущностей документа .ipynb"
   ]
  },
  {
   "cell_type": "markdown",
   "metadata": {},
   "source": [
    "- Ячейка кода – это сущность документа .ipynb, которая содержит исполняемый код на Python (или другом языке), предназначена для выполнения программных инструкций, результат выполнения ячейки отображается непосредственно под ней в виде текста, графиков, таблиц или других данных.\n",
    "\n",
    "- Ячейка редактирования (Markdown) – это сущность документа .ipynb, которая содержит текст, написанный с использованием языка разметки Markdown, предназначена для добавления пояснений, заголовков, списков, формул и других текстовых элементов, результат выполнения ячейки отображается в виде отформатированного текста."
   ]
  },
  {
   "cell_type": "markdown",
   "metadata": {},
   "source": [
    "#### 2. Действия с ячейками в командном режиме Jupyter Noteboo"
   ]
  },
  {
   "cell_type": "markdown",
   "metadata": {},
   "source": [
    "В командном режиме (активируется клавишей `Esc`) можно выполнять следующие действия:\n",
    "\n",
    "- Добавлять ячейки выше (`A`) или ниже (`B`).\n",
    "\n",
    "- Удалять ячейку (`D`, `D`).\n",
    "\n",
    "- Копировать (`C`), вырезать (`X`) и вставлять (`V`) ячейки.\n",
    "\n",
    "- Перемещать ячейки вверх (`Ctrl` + `Shift` + `↑`) или вниз (`Ctrl` + `Shift` + `↓`).\n",
    "\n",
    "- Изменять тип ячейки на Code (`Y`) или Markdown (`M`).\n",
    "\n",
    "- Объединять ячейки (`Shift` + `M`).\n",
    "\n",
    "- Разделять ячейку (`Ctrl` + `Shift` + `-`).\n",
    "\n",
    "- Выделять несколько ячеек (`Shift` + `↑`/`↓`).\n",
    "\n",
    "- Отменить последнее действие (`Z`)"
   ]
  },
  {
   "cell_type": "markdown",
   "metadata": {},
   "source": [
    "#### 3. Языки разметки для форматирования текста в .ipynb"
   ]
  },
  {
   "cell_type": "markdown",
   "metadata": {},
   "source": [
    "1. Markdown – используется для создания текстового контента: заголовков, списков, ссылок, изображений, формул и т.д.\n",
    "\n",
    "2. LaTeX – используется для написания математических формул и выражений."
   ]
  },
  {
   "cell_type": "markdown",
   "metadata": {},
   "source": [
    "А) Горячие клавиши для работы с ячейками\n",
    "- Сделать ячейку активной: `Enter`.\n",
    "\n",
    "- Создать ячейку выше активной: `A` (в командном режиме).\n",
    "\n",
    "- Создать ячейку ниже активной: `B` (в командном режиме).\n",
    "\n",
    "- Установить тип Code: `Y` (в командном режиме).\n",
    "\n",
    "- Установить тип Markdown: `M` (в командном режиме).\n",
    "\n",
    "- Перевести в режим редактирования: `Enter`.\n",
    "\n",
    "- Перевести в командный режим: `Esc`.\n",
    "\n",
    "- Копировать ячейку: `C` (в командном режиме).\n",
    "\n",
    "- Вставить ячейку: `V` (в командном режиме).\n",
    "\n",
    "- Вырезать ячейку: `X` (в командном режиме).\n",
    "\n",
    "- Удалить ячейку: `D`, `D` (в командном режиме).\n",
    "\n",
    "- Выделить несколько ячеек: `Shift` + `↑`/`↓` (в командном режиме).\n",
    "\n",
    "- Объединить ячейки: `Shift` + `M` (в командном режиме).\n",
    "\n",
    "- Разделить ячейку: `Ctrl` + `Shift` + `-` (в режиме редактирования).\n",
    "\n",
    "- Отменить последнее действие: `Z` (в командном режиме)."
   ]
  },
  {
   "cell_type": "markdown",
   "metadata": {},
   "source": [
    "Б) Элементы языка Markdown для форматирования текста:\n",
    "- Заголовок первого уровня:\n",
    "`# Заголовок 1`\n",
    "\n",
    "- Заголовок второго уровня:\n",
    "`## Заголовок 2`\n",
    "\n",
    "- Заголовок уровня n:\n",
    "`###### Заголовок n (количество # соответствует уровню).`\n",
    "\n",
    "- Ненумерованный список:\n",
    "Используйте -, * или + перед элементом списка:\n",
    "- `- Элемент 1`\n",
    "- `* Элемент 2`\n",
    "- `+ Элемент 3`\n",
    "- Выделение текста курсивом:\n",
    "*курсив* или _курсив_.\n",
    "\n",
    "- Выделение текста жирным шрифтом:\n",
    "**жирный** или __жирный__.\n",
    "\n",
    "- Математическое выражение в строке:\n",
    "Используйте одинарные доллары:\n",
    "`$E = mc^2$`.\n",
    "\n",
    "- Математическое выражение с новой строки:\n",
    "Используйте двойные доллары:\n",
    "`$$E = mc^2$$`.\n",
    "\n",
    "- Отображение текста цветом:\n",
    "Markdown не поддерживает цвет напрямую, но можно использовать HTML:\n",
    "`<span style=\"color:red;\">Красный текст</span>`"
   ]
  },
  {
   "cell_type": "markdown",
   "metadata": {},
   "source": [
    "### ЛБ01 Часть 3. Использование некоторых модулей и расширений\n"
   ]
  },
  {
   "cell_type": "markdown",
   "metadata": {},
   "source": [
    "#### 1. Модуль с математическими функциями"
   ]
  },
  {
   "cell_type": "markdown",
   "metadata": {},
   "source": [
    "Имя модуля: `math`.\n",
    "\n",
    "Для подключения используется команд:"
   ]
  },
  {
   "cell_type": "code",
   "execution_count": 57,
   "metadata": {},
   "outputs": [],
   "source": [
    "import math"
   ]
  },
  {
   "cell_type": "markdown",
   "metadata": {},
   "source": [
    "#### 2. Пример использования математической функции"
   ]
  },
  {
   "cell_type": "markdown",
   "metadata": {},
   "source": [
    "Пример использования функции `sqrt` (квадратный корень) из модуля `math`:"
   ]
  },
  {
   "cell_type": "code",
   "execution_count": null,
   "metadata": {},
   "outputs": [
    {
     "name": "stdout",
     "output_type": "stream",
     "text": [
      "4.0\n"
     ]
    }
   ],
   "source": [
    "import math\n",
    "\n",
    "result = math.sqrt(16)\n",
    "print(result)"
   ]
  },
  {
   "cell_type": "markdown",
   "metadata": {},
   "source": [
    "#### 3. Подключение модуля для работы с графикой и создание псевдонима"
   ]
  },
  {
   "cell_type": "markdown",
   "metadata": {},
   "source": [
    "Модуль для работы с графикой: `matplotlib.pyplot`.\n",
    "\n",
    "Для подключения с псевдонимом используется команда:"
   ]
  },
  {
   "cell_type": "code",
   "execution_count": 59,
   "metadata": {},
   "outputs": [],
   "source": [
    "import matplotlib.pyplot as plt"
   ]
  },
  {
   "cell_type": "markdown",
   "metadata": {},
   "source": [
    "Теперь вместо `matplotlib.pyplot` можно использовать `plt`."
   ]
  },
  {
   "cell_type": "markdown",
   "metadata": {},
   "source": [
    "#### 4. Расширение для работы с массивами"
   ]
  },
  {
   "cell_type": "markdown",
   "metadata": {},
   "source": [
    "Имя расширения: `numpy`.\n",
    "\n",
    "Оно предоставляет структуру данных массив (array) и множество функций для работы с ней."
   ]
  },
  {
   "cell_type": "markdown",
   "metadata": {},
   "source": [
    "#### 5. Модуль с физическими константами"
   ]
  },
  {
   "cell_type": "markdown",
   "metadata": {},
   "source": [
    "Модуль, содержащий значения физических констант, называется `scipy.constants`. Он находится в пакете `scipy`."
   ]
  },
  {
   "cell_type": "code",
   "execution_count": 60,
   "metadata": {},
   "outputs": [],
   "source": [
    "import scipy.constants"
   ]
  },
  {
   "cell_type": "markdown",
   "metadata": {},
   "source": [
    "#### 6. Определение ускорения свободного падения:"
   ]
  },
  {
   "cell_type": "markdown",
   "metadata": {},
   "source": [
    "Пример определения ускорения свободного падения (`g`) с использованием модуля `scipy.constants`:"
   ]
  },
  {
   "cell_type": "code",
   "execution_count": null,
   "metadata": {},
   "outputs": [
    {
     "name": "stdout",
     "output_type": "stream",
     "text": [
      "9.80665\n"
     ]
    }
   ],
   "source": [
    "import scipy.constants as const\n",
    "\n",
    "g = const.g\n",
    "print(g) "
   ]
  },
  {
   "cell_type": "markdown",
   "metadata": {},
   "source": [
    "#### 7. Назначение модуля sympy"
   ]
  },
  {
   "cell_type": "markdown",
   "metadata": {},
   "source": [
    "Модуль `sympy` предназначен для символьных вычислений. Он позволяет работать с алгебраическими выражениями, решать уравнения, дифференцировать, интегрировать и выполнять другие математические операции в символьном виде."
   ]
  },
  {
   "cell_type": "markdown",
   "metadata": {},
   "source": [
    "#### 8. Пример решения алгебраического уравнения с sympy:"
   ]
  },
  {
   "cell_type": "markdown",
   "metadata": {},
   "source": [
    "Пример решения уравнения  $x^{2}$ - 4 = 0 с использованием модуля `sympy`:"
   ]
  },
  {
   "cell_type": "code",
   "execution_count": null,
   "metadata": {},
   "outputs": [
    {
     "name": "stdout",
     "output_type": "stream",
     "text": [
      "[-2, 2]\n"
     ]
    }
   ],
   "source": [
    "import sympy as sp # type: ignore\n",
    "\n",
    "x = sp.symbols('x')\n",
    "\n",
    "equation = sp.Eq(x**2 - 4, 0)\n",
    "\n",
    "solution = sp.solve(equation, x)\n",
    "print(solution) "
   ]
  },
  {
   "cell_type": "markdown",
   "metadata": {},
   "source": [
    "### ЛБ01 Часть 4. Использование функций графики"
   ]
  },
  {
   "cell_type": "markdown",
   "metadata": {},
   "source": [
    "#### 1. Спецификация функции range:"
   ]
  },
  {
   "cell_type": "markdown",
   "metadata": {},
   "source": [
    "Функция range в Python используется для генерации последовательности чисел. Она может принимать от одного до трех аргументов:\n",
    "\n",
    "- `range(stop) `— генерирует последовательность чисел от `0` до `stop - 1` с шагом `1`.\n",
    "\n",
    "- `range(start, stop)` — генерирует последовательность чисел от `start` до `stop - 1` с шагом `1`.\n",
    "\n",
    "- `ange(start, stop, step)` — генерирует последовательность чисел от `start` до `stop - 1` с шагом `step`.\n",
    "\n",
    "Примеры:"
   ]
  },
  {
   "cell_type": "code",
   "execution_count": null,
   "metadata": {},
   "outputs": [
    {
     "name": "stdout",
     "output_type": "stream",
     "text": [
      "012342345613579"
     ]
    }
   ],
   "source": [
    "\n",
    "for i in range(5):\n",
    "    print(i, end='')\n",
    "\n",
    "for i in range(2, 7):\n",
    "    print(i, end='')\n",
    "\n",
    "for i in range(1, 11, 2):\n",
    "    print(i, end='') "
   ]
  },
  {
   "cell_type": "markdown",
   "metadata": {},
   "source": [
    "#### 2. Спецификация функции numpy.arange:"
   ]
  },
  {
   "cell_type": "markdown",
   "metadata": {},
   "source": [
    "Функция `numpy.arange` используется для создания одномерного массива чисел с заданным диапазоном и шагом. Она аналогична `range`, но возвращает массив NumPy. Аргументы:\n",
    "\n",
    "- `start` (необязательный) — начальное значение (по умолчанию `0`).\n",
    "\n",
    "- `stop` — конечное значение (не включается в массив).\n",
    "\n",
    "- `step` (необязательный) — шаг (по умолчанию `1`).\n",
    "\n",
    "- `dtype` (необязательный) — тип данных элементов массива.\n",
    "\n",
    "Пример:"
   ]
  },
  {
   "cell_type": "code",
   "execution_count": null,
   "metadata": {},
   "outputs": [
    {
     "name": "stdout",
     "output_type": "stream",
     "text": [
      "[0 1 2 3 4]\n",
      "[2 4 6 8]\n"
     ]
    }
   ],
   "source": [
    "import numpy as np\n",
    "\n",
    "arr = np.arange(5)\n",
    "print(arr) \n",
    "\n",
    "arr = np.arange(2, 9, 2)\n",
    "print(arr) "
   ]
  },
  {
   "cell_type": "markdown",
   "metadata": {},
   "source": [
    "#### 3. Пример построения графика в декартовой системе координат:"
   ]
  },
  {
   "cell_type": "markdown",
   "metadata": {},
   "source": [
    "Для построения графика в прямоугольной декартовой системе координат используется библиотека `matplotlib`. Пример:"
   ]
  },
  {
   "cell_type": "code",
   "execution_count": null,
   "metadata": {},
   "outputs": [
    {
     "data": {
      "image/png": "[encoded data removed]",
      "text/plain": [
       "<Figure size 640x480 with 1 Axes>"
      ]
     },
     "metadata": {},
     "output_type": "display_data"
    }
   ],
   "source": [
    "import matplotlib.pyplot as plt\n",
    "\n",
    "x_list = [1, 2, 3, 4, 5]\n",
    "y_list = [1, 4, 9, 16, 25]\n",
    "\n",
    "plt.plot(x_list, y_list, marker='o')\n",
    "\n",
    "plt.xlim(0, 6)\n",
    "plt.ylim(0, 30)\n",
    "\n",
    "plt.xlabel('Ось X')\n",
    "plt.ylabel('Ось Y')\n",
    "\n",
    "plt.title('График функции y = x^2')\n",
    "\n",
    "plt.show()"
   ]
  },
  {
   "cell_type": "markdown",
   "metadata": {},
   "source": [
    "#### 4. Пример построения графика в полярной системе координат:"
   ]
  },
  {
   "cell_type": "markdown",
   "metadata": {},
   "source": [
    "Для построения графика в полярной системе координат также используется библиотека `matplotlib`. Пример:"
   ]
  },
  {
   "cell_type": "code",
   "execution_count": null,
   "metadata": {},
   "outputs": [
    {
     "data": {
      "image/png": "[encoded data removed]",
      "text/plain": [
       "<Figure size 640x480 with 1 Axes>"
      ]
     },
     "metadata": {},
     "output_type": "display_data"
    }
   ],
   "source": [
    "import matplotlib.pyplot as plt\n",
    "import numpy as np\n",
    "\n",
    "theta = np.linspace(0, 2 * np.pi, 100)\n",
    "\n",
    "r = theta\n",
    "\n",
    "ax = plt.subplot(111, projection='polar')\n",
    "ax.plot(theta, r)\n",
    "\n",
    "ax.set_rmax(2 * np.pi)\n",
    "\n",
    "ax.set_xlabel('Полярный угол (θ)')\n",
    "ax.set_ylabel('Полярный радиус (r)')\n",
    "\n",
    "ax.set_title('График в полярной системе координат')\n",
    "\n",
    "plt.show()"
   ]
  },
  {
   "cell_type": "markdown",
   "metadata": {},
   "source": [
    "В этом примере:\n",
    "\n",
    "- `theta` — массив углов от `0` до `2π`.\n",
    "\n",
    "- `r` — массив радиусов, который зависит от угла (например, спираль).\n",
    "\n",
    "- `projection='polar'` указывает, что график строится в полярной системе координат."
   ]
  }
 ],
 "metadata": {
  "kernelspec": {
   "display_name": "clean_env",
   "language": "python",
   "name": "python3"
  },
  "language_info": {
   "codemirror_mode": {
    "name": "ipython",
    "version": 3
   },
   "file_extension": ".py",
   "mimetype": "text/x-python",
   "name": "python",
   "nbconvert_exporter": "python",
   "pygments_lexer": "ipython3",
   "version": "3.13.2"
  }
 },
 "nbformat": 4,
 "nbformat_minor": 2
}
