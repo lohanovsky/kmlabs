{
 "cells": [
  {
   "cell_type": "markdown",
   "metadata": {},
   "source": [
    "# Лабораторная работа 7\n",
    "# Построение бинарного дерева поиска. Подсчет количества элементов в дереве\n"
   ]
  },
  {
   "cell_type": "markdown",
   "metadata": {},
   "source": []
  },
  {
   "cell_type": "markdown",
   "metadata": {},
   "source": [
    "Горбачевский Илья Александрович, 24.05.2025"
   ]
  },
  {
   "cell_type": "markdown",
   "metadata": {},
   "source": [
    "### Задание 7.1 Определение классов"
   ]
  },
  {
   "cell_type": "markdown",
   "metadata": {},
   "source": [
    "Бинарное дерево поиска будем описывать с помощью трех классов: `BinaryTree` , `BinaryNode` , `EmptyNode` , связанных друг с другом на основе композиции. Проектирование классов представлено в лекции к теме *Бинарное дерево поиска. Реализация на основе ООП.*\n"
   ]
  },
  {
   "cell_type": "markdown",
   "metadata": {},
   "source": [
    "$\\color{red}\\text{Напишите}$ базовое определение классов BinaryTree , BinaryNode , EmptyNode\n",
    "на основе лекционных материалов."
   ]
  },
  {
   "cell_type": "markdown",
   "metadata": {},
   "source": [
    "Базовое определение класса `BinaryTree` содержит метод инициализации `__init__(self)` , метод строкового представления `__repr__(self)` , метод вставки элемента в дерево `insert(self, value)` .\n"
   ]
  },
  {
   "cell_type": "code",
   "execution_count": 1,
   "metadata": {},
   "outputs": [],
   "source": [
    "class BinaryTree:\n",
    "    def __init__(self):\n",
    "        \"\"\"Метод __Init__ используется при инициализации (то есть создании) элемента класса BinaryTree. Создаётся корень класса EmptyNode\"\"\"\n",
    "        self.root = EmptyNode()\n",
    "\n",
    "    def __repr__(self):\n",
    "        \"\"\"Метод __repr__ описывает строковое представление объекта. Он возвращает представление корня, который может быть класса BinaryNode или ЕmptyNode\"\"\"\n",
    "        return repr(self.root)\n",
    "\n",
    "    def insert(self,value):\n",
    "        \"\"\"Метод insert дерева присваивает значение корня новому элементу BinaryTree\"\"\" \n",
    "        self.root = self.root.insert(value)\n",
    "\n",
    "class BinaryNode:\n",
    "    def __init__(self,left,value,right):\n",
    "        \"\"\"Метод __init__ инициализирует узел дерева\"\"\"\n",
    "        self.left = left\n",
    "        self.value = value\n",
    "        self.right = right\n",
    "    \n",
    "    def __repr__(self):\n",
    "        \"\"\"Метод __repr__ возвращает строковое представление узла\"\"\"\n",
    "        return f'({self.left},{self.value},{self.right})'\n",
    "    \n",
    "    def insert(self,value):\n",
    "        ...\n",
    "    \n",
    "class EmptyNode:\n",
    "    def __repr__(self):\n",
    "        \"\"\"Метод __repr__ для пустого узла возвращает '*'\"\"\"\n",
    "        return '*'\n",
    "        \n",
    "    def insert(self,value):\n",
    "        \"\"\"Метод insert для пустого узла возвращает новый узел BinaryNode\"\"\"\n",
    "        return BinaryNode(self,value,self)"
   ]
  },
  {
   "cell_type": "markdown",
   "metadata": {},
   "source": [
    "### Задание 7.2 Метод вставки элемента в бинарное дерево поиска"
   ]
  },
  {
   "cell_type": "code",
   "execution_count": 13,
   "metadata": {},
   "outputs": [],
   "source": [
    "class BinaryTree:\n",
    "    def __init__(self):\n",
    "        \"\"\"Метод __Init__ используется при инициализации (то есть создании) элемента класса BinaryTree. Создаётся корень класса EmptyNode\"\"\"\n",
    "        self.root = EmptyNode()\n",
    "\n",
    "    def __repr__(self):\n",
    "        \"\"\"Метод __repr__ описывает строковое представление объекта. Он возвращает представление корня, который может быть класса BinaryNode или ЕmptyNode\"\"\"\n",
    "        return repr(self.root)\n",
    "\n",
    "    def insert(self,value):\n",
    "        \"\"\"Метод insert дерева присваивает корень новому элементу BinaryTree\"\"\" \n",
    "        self.root = self.root.insert(value)\n",
    "\n",
    "class BinaryNode:\n",
    "    def __init__(self,left,value,right):\n",
    "        \"\"\"Метод __init__ инициализирует узел дерева\"\"\"\n",
    "        self.left = left\n",
    "        self.value = value\n",
    "        self.right = right\n",
    "    \n",
    "    def __repr__(self):\n",
    "        \"\"\"Метод __repr__ возвращает строковое представление узла\"\"\"\n",
    "        return f'({self.left},{self.value},{self.right})'\n",
    "    \n",
    "    def insert(self,value):\n",
    "       \"\"\"Метод insert узла дерева добавляет новый узел по правилу, что если новое значение меньше чем текущее,\n",
    "       то новый узел записывается слева от текущего, и наоборот если равно либо больше. Таким образом, все элементы дерева\n",
    "       меньше изначального (корневого) находятся от него слева, и наоборот для больших\"\"\"\n",
    "       if value < self.value:\n",
    "           self.left = self.left.insert(value)\n",
    "       else:\n",
    "           self.right = self.right.insert(value)\n",
    "       return self\n",
    "    \n",
    "class EmptyNode:\n",
    "    def __repr__(self):\n",
    "        \"\"\"Метод __repr__ для пустого узла возвращает '*'\"\"\"\n",
    "        return '*'\n",
    "        \n",
    "    def insert(self,value):\n",
    "        \"\"\"Метод insert для пустого узла возвращает новый узел BinaryNode\"\"\"\n",
    "        return BinaryNode(self,value,self)"
   ]
  },
  {
   "cell_type": "code",
   "execution_count": 3,
   "metadata": {},
   "outputs": [
    {
     "name": "stdout",
     "output_type": "stream",
     "text": [
      "*\n",
      "*\n",
      "(*,10,*)\n",
      "(*,5,*)\n",
      "((*,1,*),5,*)\n",
      "((*,1,*),5,(*,10,*))\n",
      "((*,1,(*,3,*)),5,(*,10,*))\n"
     ]
    }
   ],
   "source": [
    "empty_node = EmptyNode()\n",
    "print (empty_node)\n",
    "\n",
    "tree = BinaryTree()\n",
    "print(tree)\n",
    "\n",
    "tree.insert(10)\n",
    "print(tree)\n",
    "\n",
    "tree = BinaryTree()\n",
    "source_data = [5,1,10,3,4]\n",
    "tree.insert(source_data[0])\n",
    "print (tree)\n",
    "tree.insert(source_data[1])\n",
    "print (tree)\n",
    "tree.insert(source_data[2])\n",
    "print (tree)\n",
    "tree.insert(source_data[3])\n",
    "print (tree)\n"
   ]
  },
  {
   "cell_type": "code",
   "execution_count": 4,
   "metadata": {},
   "outputs": [
    {
     "name": "stdout",
     "output_type": "stream",
     "text": [
      "((*,h,((*,n,*),o,*)),p,((*,t,*),y,*))\n",
      "(*,0,(*,1,(*,2,(*,3,(*,4,*)))))\n",
      "(*,0,((*,0,(((*,0,(*,0,*)),2,*),6,(*,6,*))),8,*))\n"
     ]
    }
   ],
   "source": [
    "tree1 = BinaryTree()\n",
    "for char in \"python\":\n",
    "    tree1.insert(char)\n",
    "print(tree1)\n",
    "\n",
    "tree2 = BinaryTree()\n",
    "for num in range(5):\n",
    "    tree2.insert(num)\n",
    "print(tree2)\n",
    "\n",
    "tree3 = BinaryTree()\n",
    "numbers = [0,8,0,6,2,0,0,6]\n",
    "for num in numbers:\n",
    "    tree3.insert(num)\n",
    "print(tree3)"
   ]
  },
  {
   "cell_type": "markdown",
   "metadata": {},
   "source": [
    "### Задание 7.3 Построение бинарного дерева поиска"
   ]
  },
  {
   "cell_type": "code",
   "execution_count": 5,
   "metadata": {},
   "outputs": [
    {
     "name": "stdout",
     "output_type": "stream",
     "text": [
      "(((*,1,*),3,(*,4,*)),5,((*,6,*),7,(*,8,*)))\n"
     ]
    }
   ],
   "source": [
    "\n",
    "tree = BinaryTree()\n",
    "with open('1.txt', 'r') as file:\n",
    "    for line in file:\n",
    "        number = int(line.strip())\n",
    "        tree.insert(number)\n",
    "print(tree)"
   ]
  },
  {
   "cell_type": "code",
   "execution_count": 17,
   "metadata": {},
   "outputs": [
    {
     "data": {
      "text/plain": [
       "(((*,1,(*,2,*)),3,(*,4,*)),5,((*,6,*),7,(*,8,(*,9,*))))"
      ]
     },
     "execution_count": 17,
     "metadata": {},
     "output_type": "execute_result"
    }
   ],
   "source": [
    "tree = BinaryTree()\n",
    "with open('2.txt','r') as file:\n",
    "    for line in file:\n",
    "        numbers = line.strip().split()\n",
    "        for number in numbers:\n",
    "            tree.insert(int(number))\n",
    "tree"
   ]
  },
  {
   "cell_type": "code",
   "execution_count": 16,
   "metadata": {},
   "outputs": [
    {
     "data": {
      "text/plain": [
       "(((*,1,(*,2,*)),3,((*,3,*),4,*)),5,((*,6,*),7,(*,8,(*,9,*))))"
      ]
     },
     "execution_count": 16,
     "metadata": {},
     "output_type": "execute_result"
    }
   ],
   "source": [
    "tree = BinaryTree()\n",
    "with open('3.txt','r') as file:\n",
    "    for line in file:\n",
    "        numbers = line.strip().split()\n",
    "        for number in numbers:\n",
    "            tree.insert(int(number))\n",
    "tree"
   ]
  },
  {
   "cell_type": "code",
   "execution_count": 22,
   "metadata": {},
   "outputs": [
    {
     "name": "stdout",
     "output_type": "stream",
     "text": [
      "(((*,1,(*,2,*)),3,(*,4,*)),5,((*,6,*),7,(*,8,(*,9,*))))\n"
     ]
    }
   ],
   "source": [
    "import json\n",
    "\n",
    "with open('numbers.json', 'r') as file:\n",
    "    data = json.load(file)\n",
    "    numbers = data['numbers']\n",
    "\n",
    "tree = BinaryTree()\n",
    "for number in numbers:\n",
    "    tree.insert(number)\n",
    "print(tree)"
   ]
  },
  {
   "cell_type": "markdown",
   "metadata": {},
   "source": [
    "### Задание 7.4 Перегрузка операции принадлежности in"
   ]
  },
  {
   "cell_type": "code",
   "execution_count": 23,
   "metadata": {},
   "outputs": [],
   "source": [
    "class BinaryTree:\n",
    "    def __contains__(self,value):\n",
    "        return value in self.root\n",
    "    \n",
    "    def __init__(self):\n",
    "        \"\"\"Метод __Init__ используется при инициализации (то есть создании) элемента класса BinaryTree. Создаётся корень класса EmptyNode\"\"\"\n",
    "        self.root = EmptyNode()\n",
    "\n",
    "    def __repr__(self):\n",
    "        \"\"\"Метод __repr__ описывает строковое представление объекта. Он возвращает представление корня, который может быть класса BinaryNode или ЕmptyNode\"\"\"\n",
    "        return repr(self.root)\n",
    "\n",
    "    def insert(self,value):\n",
    "        \"\"\"Метод insert дерева присваивает корень новому элементу BinaryTree\"\"\" \n",
    "        self.root = self.root.insert(value)\n",
    "\n",
    "class BinaryNode:\n",
    "    def __contains__(self,value):\n",
    "        if value == self.value:\n",
    "            return True\n",
    "        elif value < self.value:\n",
    "            return value in self.left\n",
    "        else:\n",
    "            return value in self.right\n",
    "    \n",
    "    def __init__(self,left,value,right):\n",
    "        \"\"\"Метод __init__ инициализирует узел дерева\"\"\"\n",
    "        self.left = left\n",
    "        self.value = value\n",
    "        self.right = right\n",
    "    \n",
    "    def __repr__(self):\n",
    "        \"\"\"Метод __repr__ возвращает строковое представление узла\"\"\"\n",
    "        return f'({self.left},{self.value},{self.right})'\n",
    "    \n",
    "    def insert(self,value):\n",
    "       \"\"\"Метод insert узла дерева добавляет новый узел по правилу, что если новое значение меньше чем текущее,\n",
    "       то новый узел записывается слева от текущего, и наоборот если равно либо больше. Таким образом, все элементы дерева\n",
    "       меньше изначального (корневого) находятся от него слева, и наоборот для больших\"\"\"\n",
    "       if value < self.value:\n",
    "           self.left = self.left.insert(value)\n",
    "       else:\n",
    "           self.right = self.right.insert(value)\n",
    "       return self\n",
    "    \n",
    "class EmptyNode:\n",
    "    def __contains__(self,value):\n",
    "        return False\n",
    "    \n",
    "    def __repr__(self):\n",
    "        \"\"\"Метод __repr__ для пустого узла возвращает '*'\"\"\"\n",
    "        return '*'\n",
    "        \n",
    "    def insert(self,value):\n",
    "        \"\"\"Метод insert для пустого узла возвращает новый узел BinaryNode\"\"\"\n",
    "        return BinaryNode(self,value,self)"
   ]
  },
  {
   "cell_type": "code",
   "execution_count": 24,
   "metadata": {},
   "outputs": [
    {
     "name": "stdout",
     "output_type": "stream",
     "text": [
      "(*,0,(*,1,(*,2,(*,3,(*,4,*)))))\n",
      "True\n",
      "True\n",
      "True\n",
      "True\n",
      "True\n",
      "False\n",
      "False\n",
      "False\n"
     ]
    }
   ],
   "source": [
    "tree2 = BinaryTree()\n",
    "for num in range(5):\n",
    "    tree2.insert(num)\n",
    "print(tree2)\n",
    "\n",
    "for num in range(5):\n",
    "    print(num in tree2)\n",
    "\n",
    "test_numbers = [-1, 5, 10]\n",
    "for num in test_numbers:\n",
    "    print(num in tree2)"
   ]
  },
  {
   "cell_type": "markdown",
   "metadata": {},
   "source": [
    "### 9.6 Перегрузка встроенной функции len"
   ]
  },
  {
   "cell_type": "code",
   "execution_count": 27,
   "metadata": {},
   "outputs": [],
   "source": [
    "class BinaryTree:\n",
    "    def __len__(self):\n",
    "        return len(self.root)\n",
    "    \n",
    "    def __contains__(self,value):\n",
    "        return value in self.root\n",
    "    \n",
    "    def __init__(self):\n",
    "        \"\"\"Метод __Init__ используется при инициализации (то есть создании) элемента класса BinaryTree. Создаётся корень класса EmptyNode\"\"\"\n",
    "        BinaryNode.numberOfNodes = 0\n",
    "        self.root = EmptyNode()\n",
    "\n",
    "    def __repr__(self):\n",
    "        \"\"\"Метод __repr__ описывает строковое представление объекта. Он возвращает представление корня, который может быть класса BinaryNode или ЕmptyNode\"\"\"\n",
    "        return repr(self.root)\n",
    "\n",
    "    def insert(self,value):\n",
    "        \"\"\"Метод insert дерева присваивает корень новому элементу BinaryTree\"\"\" \n",
    "        self.root = self.root.insert(value)\n",
    "\n",
    "class BinaryNode:\n",
    "    numberOfNodes = 0\n",
    "    def __len__(self):\n",
    "        return self.numberOfNodes\n",
    "    \n",
    "    def __contains__(self,value):\n",
    "        if value == self.value:\n",
    "            return True\n",
    "        elif value < self.value:\n",
    "            return value in self.left\n",
    "        else:\n",
    "            return value in self.right\n",
    "    \n",
    "    def __init__(self,left,value,right):\n",
    "        \"\"\"Метод __init__ инициализирует узел дерева\"\"\"\n",
    "        BinaryNode.numberOfNodes += 1\n",
    "        self.left = left\n",
    "        self.value = value\n",
    "        self.right = right\n",
    "    \n",
    "    def __repr__(self):\n",
    "        \"\"\"Метод __repr__ возвращает строковое представление узла\"\"\"\n",
    "        return f'({self.left},{self.value},{self.right})'\n",
    "    \n",
    "    def insert(self,value):\n",
    "       \"\"\"Метод insert узла дерева добавляет новый узел по правилу, что если новое значение меньше чем текущее,\n",
    "       то новый узел записывается слева от текущего, и наоборот если равно либо больше. Таким образом, все элементы дерева\n",
    "       меньше изначального (корневого) находятся от него слева, и наоборот для больших\"\"\"\n",
    "       if value < self.value:\n",
    "           self.left = self.left.insert(value)\n",
    "       else:\n",
    "           self.right = self.right.insert(value)\n",
    "       return self\n",
    "    \n",
    "class EmptyNode:\n",
    "    def __len__(self):\n",
    "        return 0\n",
    "    \n",
    "    def __contains__(self,value):\n",
    "        return False\n",
    "    \n",
    "    def __repr__(self):\n",
    "        \"\"\"Метод __repr__ для пустого узла возвращает '*'\"\"\"\n",
    "        return '*'\n",
    "        \n",
    "    def insert(self,value):\n",
    "        \"\"\"Метод insert для пустого узла возвращает новый узел BinaryNode\"\"\"\n",
    "        return BinaryNode(self,value,self)"
   ]
  },
  {
   "cell_type": "code",
   "execution_count": 30,
   "metadata": {},
   "outputs": [
    {
     "name": "stdout",
     "output_type": "stream",
     "text": [
      "5\n"
     ]
    },
    {
     "data": {
      "text/plain": [
       "6"
      ]
     },
     "execution_count": 30,
     "metadata": {},
     "output_type": "execute_result"
    }
   ],
   "source": [
    "tree2 = BinaryTree()\n",
    "for num in range(5):\n",
    "    tree2.insert(num)\n",
    "print(len(tree2))\n",
    "tree2.insert(num)\n",
    "len(tree2)"
   ]
  },
  {
   "cell_type": "markdown",
   "metadata": {},
   "source": [
    "### 9.7 Обход бинарного дерева поиска"
   ]
  },
  {
   "cell_type": "code",
   "execution_count": 34,
   "metadata": {},
   "outputs": [],
   "source": [
    "class BinaryTree:\n",
    "    def lcr(self):\n",
    "        return self.root.lcr()\n",
    "    \n",
    "    def __len__(self):\n",
    "        return len(self.root)\n",
    "    \n",
    "    def __contains__(self,value):\n",
    "        return value in self.root\n",
    "    \n",
    "    def __init__(self):\n",
    "        \"\"\"Метод __Init__ используется при инициализации (то есть создании) элемента класса BinaryTree. Создаётся корень класса EmptyNode\"\"\"\n",
    "        BinaryNode.numberOfNodes = 0\n",
    "        self.root = EmptyNode()\n",
    "\n",
    "    def __repr__(self):\n",
    "        \"\"\"Метод __repr__ описывает строковое представление объекта. Он возвращает представление корня, который может быть класса BinaryNode или ЕmptyNode\"\"\"\n",
    "        return repr(self.root)\n",
    "\n",
    "    def insert(self,value):\n",
    "        \"\"\"Метод insert дерева присваивает корень новому элементу BinaryTree\"\"\" \n",
    "        self.root = self.root.insert(value)\n",
    "\n",
    "class BinaryNode:\n",
    "    numberOfNodes = 0\n",
    "    def __len__(self):\n",
    "        return self.numberOfNodes\n",
    "    \n",
    "    def lcr(self):\n",
    "        result = self.left.lcr() + [self.value] + self.right.lcr()\n",
    "        return result\n",
    "\n",
    "    def __contains__(self,value):\n",
    "        if value == self.value:\n",
    "            return True\n",
    "        elif value < self.value:\n",
    "            return value in self.left\n",
    "        else:\n",
    "            return value in self.right\n",
    "    \n",
    "    def __init__(self,left,value,right):\n",
    "        \"\"\"Метод __init__ инициализирует узел дерева\"\"\"\n",
    "        BinaryNode.numberOfNodes += 1\n",
    "        self.left = left\n",
    "        self.value = value\n",
    "        self.right = right\n",
    "    \n",
    "    def __repr__(self):\n",
    "        \"\"\"Метод __repr__ возвращает строковое представление узла\"\"\"\n",
    "        return f'({self.left},{self.value},{self.right})'\n",
    "    \n",
    "    def insert(self,value):\n",
    "       \"\"\"Метод insert узла дерева добавляет новый узел по правилу, что если новое значение меньше чем текущее,\n",
    "       то новый узел записывается слева от текущего, и наоборот если равно либо больше. Таким образом, все элементы дерева\n",
    "       меньше изначального (корневого) находятся от него слева, и наоборот для больших\"\"\"\n",
    "       if value < self.value:\n",
    "           self.left = self.left.insert(value)\n",
    "       else:\n",
    "           self.right = self.right.insert(value)\n",
    "       return self\n",
    "    \n",
    "class EmptyNode:\n",
    "    def lcr(self):\n",
    "        return []\n",
    "    def __len__(self):\n",
    "        return 0\n",
    "    \n",
    "    def __contains__(self,_):\n",
    "        return False\n",
    "    \n",
    "    def __repr__(self):\n",
    "        \"\"\"Метод __repr__ для пустого узла возвращает '*'\"\"\"\n",
    "        return '*'\n",
    "        \n",
    "    def insert(self,value):\n",
    "        \"\"\"Метод insert для пустого узла возвращает новый узел BinaryNode\"\"\"\n",
    "        return BinaryNode(self,value,self)"
   ]
  },
  {
   "cell_type": "code",
   "execution_count": 37,
   "metadata": {},
   "outputs": [
    {
     "name": "stdout",
     "output_type": "stream",
     "text": [
      "Defaulting to user installation because normal site-packages is not writeable\n",
      "Collecting matplotlib\n",
      "  Downloading matplotlib-3.10.3-cp313-cp313-win_amd64.whl.metadata (11 kB)\n",
      "Collecting contourpy>=1.0.1 (from matplotlib)\n",
      "  Downloading contourpy-1.3.2-cp313-cp313-win_amd64.whl.metadata (5.5 kB)\n",
      "Collecting cycler>=0.10 (from matplotlib)\n",
      "  Downloading cycler-0.12.1-py3-none-any.whl.metadata (3.8 kB)\n",
      "Collecting fonttools>=4.22.0 (from matplotlib)\n",
      "  Downloading fonttools-4.58.0-cp313-cp313-win_amd64.whl.metadata (106 kB)\n",
      "Collecting kiwisolver>=1.3.1 (from matplotlib)\n",
      "  Downloading kiwisolver-1.4.8-cp313-cp313-win_amd64.whl.metadata (6.3 kB)\n",
      "Collecting numpy>=1.23 (from matplotlib)\n",
      "  Downloading numpy-2.2.6-cp313-cp313-win_amd64.whl.metadata (60 kB)\n",
      "Requirement already satisfied: packaging>=20.0 in c:\\users\\amogus\\appdata\\roaming\\python\\python313\\site-packages (from matplotlib) (25.0)\n",
      "Collecting pillow>=8 (from matplotlib)\n",
      "  Downloading pillow-11.2.1-cp313-cp313-win_amd64.whl.metadata (9.1 kB)\n",
      "Collecting pyparsing>=2.3.1 (from matplotlib)\n",
      "  Downloading pyparsing-3.2.3-py3-none-any.whl.metadata (5.0 kB)\n",
      "Requirement already satisfied: python-dateutil>=2.7 in c:\\users\\amogus\\appdata\\roaming\\python\\python313\\site-packages (from matplotlib) (2.9.0.post0)\n",
      "Requirement already satisfied: six>=1.5 in c:\\users\\amogus\\appdata\\roaming\\python\\python313\\site-packages (from python-dateutil>=2.7->matplotlib) (1.17.0)\n",
      "Downloading matplotlib-3.10.3-cp313-cp313-win_amd64.whl (8.1 MB)\n",
      "   ---------------------------------------- 0.0/8.1 MB ? eta -:--:--\n",
      "   ------- -------------------------------- 1.6/8.1 MB 10.4 MB/s eta 0:00:01\n",
      "   ------------------- -------------------- 3.9/8.1 MB 11.3 MB/s eta 0:00:01\n",
      "   ------------------------------- -------- 6.3/8.1 MB 11.5 MB/s eta 0:00:01\n",
      "   ---------------------------------------- 8.1/8.1 MB 11.3 MB/s eta 0:00:00\n",
      "Downloading contourpy-1.3.2-cp313-cp313-win_amd64.whl (223 kB)\n",
      "Downloading cycler-0.12.1-py3-none-any.whl (8.3 kB)\n",
      "Downloading fonttools-4.58.0-cp313-cp313-win_amd64.whl (2.2 MB)\n",
      "   ---------------------------------------- 0.0/2.2 MB ? eta -:--:--\n",
      "   ---------------------------------------- 2.2/2.2 MB 11.0 MB/s eta 0:00:00\n",
      "Downloading kiwisolver-1.4.8-cp313-cp313-win_amd64.whl (71 kB)\n",
      "Downloading numpy-2.2.6-cp313-cp313-win_amd64.whl (12.6 MB)\n",
      "   ---------------------------------------- 0.0/12.6 MB ? eta -:--:--\n",
      "   ------- -------------------------------- 2.4/12.6 MB 11.8 MB/s eta 0:00:01\n",
      "   -------------- ------------------------- 4.7/12.6 MB 11.9 MB/s eta 0:00:01\n",
      "   ---------------------- ----------------- 7.1/12.6 MB 11.8 MB/s eta 0:00:01\n",
      "   ------------------------------ --------- 9.7/12.6 MB 11.8 MB/s eta 0:00:01\n",
      "   ----------------------------------- ---- 11.3/12.6 MB 11.0 MB/s eta 0:00:01\n",
      "   ---------------------------------------- 12.6/12.6 MB 10.3 MB/s eta 0:00:00\n",
      "Downloading pillow-11.2.1-cp313-cp313-win_amd64.whl (2.7 MB)\n",
      "   ---------------------------------------- 0.0/2.7 MB ? eta -:--:--\n",
      "   --------------- ------------------------ 1.0/2.7 MB 5.5 MB/s eta 0:00:01\n",
      "   ------------------------------- -------- 2.1/2.7 MB 5.7 MB/s eta 0:00:01\n",
      "   ---------------------------------------- 2.7/2.7 MB 5.6 MB/s eta 0:00:00\n",
      "Downloading pyparsing-3.2.3-py3-none-any.whl (111 kB)\n",
      "Installing collected packages: pyparsing, pillow, numpy, kiwisolver, fonttools, cycler, contourpy, matplotlib\n",
      "Successfully installed contourpy-1.3.2 cycler-0.12.1 fonttools-4.58.0 kiwisolver-1.4.8 matplotlib-3.10.3 numpy-2.2.6 pillow-11.2.1 pyparsing-3.2.3\n"
     ]
    },
    {
     "name": "stderr",
     "output_type": "stream",
     "text": [
      "\n",
      "[notice] A new release of pip is available: 24.3.1 -> 25.1.1\n",
      "[notice] To update, run: python.exe -m pip install --upgrade pip\n"
     ]
    }
   ],
   "source": [
    "!pip install matplotlib"
   ]
  },
  {
   "cell_type": "code",
   "execution_count": null,
   "metadata": {},
   "outputs": [],
   "source": []
  },
  {
   "cell_type": "code",
   "execution_count": 40,
   "metadata": {},
   "outputs": [
    {
     "data": {
      "text/plain": [
       "<matplotlib.legend.Legend at 0x23eb8b60910>"
      ]
     },
     "execution_count": 40,
     "metadata": {},
     "output_type": "execute_result"
    },
    {
     "data": {
      "image/png": "[encoded data removed]",
      "text/plain": [
       "<Figure size 640x480 with 1 Axes>"
      ]
     },
     "metadata": {},
     "output_type": "display_data"
    }
   ],
   "source": [
    "import random as rnd\n",
    "source_data = list(rnd.uniform(0,100) for _ in range(10**3))\n",
    "tree = BinaryTree()\n",
    "for i in source_data:\n",
    "    tree.insert(i)\n",
    "sorted_data = tree.lcr()\n",
    "import matplotlib.pyplot as plt\n",
    "plt.plot(source_data,'r.', label='Initial data')\n",
    "plt.plot(sorted_data,' .',label='Sorted data')\n",
    "plt.title('Sequences of numbers')\n",
    "plt.legend()\n"
   ]
  },
  {
   "cell_type": "markdown",
   "metadata": {},
   "source": []
  },
  {
   "cell_type": "markdown",
   "metadata": {},
   "source": [
    "### Поиск минимального и максимального значений"
   ]
  },
  {
   "cell_type": "code",
   "execution_count": 47,
   "metadata": {},
   "outputs": [],
   "source": [
    "class BinaryTree:\n",
    "    def min(self):\n",
    "        return self.root.min()\n",
    "    \n",
    "    def lcr(self):\n",
    "        return self.root.lcr()\n",
    "    \n",
    "    def __len__(self):\n",
    "        return len(self.root)\n",
    "    \n",
    "    def __contains__(self,value):\n",
    "        return value in self.root\n",
    "    \n",
    "    def __init__(self):\n",
    "        \"\"\"Метод __Init__ используется при инициализации (то есть создании) элемента класса BinaryTree. Создаётся корень класса EmptyNode\"\"\"\n",
    "        BinaryNode.numberOfNodes = 0\n",
    "        self.root = EmptyNode()\n",
    "\n",
    "    def __repr__(self):\n",
    "        \"\"\"Метод __repr__ описывает строковое представление объекта. Он возвращает представление корня, который может быть класса BinaryNode или ЕmptyNode\"\"\"\n",
    "        return repr(self.root)\n",
    "\n",
    "    def insert(self,value):\n",
    "        \"\"\"Метод insert дерева присваивает корень новому элементу BinaryTree\"\"\" \n",
    "        self.root = self.root.insert(value)\n",
    "\n",
    "class BinaryNode:\n",
    "    numberOfNodes = 0\n",
    "    def __len__(self):\n",
    "        return self.numberOfNodes\n",
    "    \n",
    "    def min(self):\n",
    "        if isinstance(self.left,EmptyNode):\n",
    "            return self.value\n",
    "        else:\n",
    "            return self.left.min()\n",
    "    \n",
    "    def lcr(self):\n",
    "        result = self.left.lcr() + [self.value] + self.right.lcr()\n",
    "        return result\n",
    "\n",
    "    def __contains__(self,value):\n",
    "        if value == self.value:\n",
    "            return True\n",
    "        elif value < self.value:\n",
    "            return value in self.left\n",
    "        else:\n",
    "            return value in self.right\n",
    "    \n",
    "    def __init__(self,left,value,right):\n",
    "        \"\"\"Метод __init__ инициализирует узел дерева\"\"\"\n",
    "        BinaryNode.numberOfNodes += 1\n",
    "        self.left = left\n",
    "        self.value = value\n",
    "        self.right = right\n",
    "    \n",
    "    def __repr__(self):\n",
    "        \"\"\"Метод __repr__ возвращает строковое представление узла\"\"\"\n",
    "        return f'({self.left},{self.value},{self.right})'\n",
    "    \n",
    "    def insert(self,value):\n",
    "       \"\"\"Метод insert узла дерева добавляет новый узел по правилу, что если новое значение меньше чем текущее,\n",
    "       то новый узел записывается слева от текущего, и наоборот если равно либо больше. Таким образом, все элементы дерева\n",
    "       меньше изначального (корневого) находятся от него слева, и наоборот для больших\"\"\"\n",
    "       if value < self.value:\n",
    "           self.left = self.left.insert(value)\n",
    "       else:\n",
    "           self.right = self.right.insert(value)\n",
    "       return self\n",
    "    \n",
    "class EmptyNode:\n",
    "    def min(self):\n",
    "        return None\n",
    "    \n",
    "    def lcr(self):\n",
    "        return []\n",
    "    def __len__(self):\n",
    "        return 0\n",
    "    \n",
    "    def __contains__(self,_):\n",
    "        return False\n",
    "    \n",
    "    def __repr__(self):\n",
    "        \"\"\"Метод __repr__ для пустого узла возвращает '*'\"\"\"\n",
    "        return '*'\n",
    "        \n",
    "    def insert(self,value):\n",
    "        \"\"\"Метод insert для пустого узла возвращает новый узел BinaryNode\"\"\"\n",
    "        return BinaryNode(self,value,self)"
   ]
  },
  {
   "cell_type": "code",
   "execution_count": 58,
   "metadata": {},
   "outputs": [
    {
     "name": "stdout",
     "output_type": "stream",
     "text": [
      "1\n"
     ]
    }
   ],
   "source": [
    "tree = BinaryTree()\n",
    "for i in [1,2,1,67,2,44]:\n",
    "    tree.insert(i)\n",
    "data = tree.min()\n",
    "print(data)"
   ]
  },
  {
   "cell_type": "markdown",
   "metadata": {},
   "source": []
  }
 ],
 "metadata": {
  "kernelspec": {
   "display_name": "Python 3",
   "language": "python",
   "name": "python3"
  },
  "language_info": {
   "codemirror_mode": {
    "name": "ipython",
    "version": 3
   },
   "file_extension": ".py",
   "mimetype": "text/x-python",
   "name": "python",
   "nbconvert_exporter": "python",
   "pygments_lexer": "ipython3",
   "version": "3.13.2"
  }
 },
 "nbformat": 4,
 "nbformat_minor": 2
}
